{
 "cells": [
  {
   "cell_type": "code",
   "execution_count": 57,
   "metadata": {},
   "outputs": [],
   "source": [
    "class Solution:\n",
    "    \n",
    "    #Function to count subarrays with 1s and 0s.\n",
    "    def countSubarrWithEqualZeroAndOne(self,arr, n):\n",
    "        #Your code here\n",
    "        # ct = 0\n",
    "        # for i in range(len(arr)):\n",
    "        #     for j in range(i+1,len(arr)+1):\n",
    "        #         if arr[i:j].count(0) == arr[i:j].count(1):\n",
    "        #             ct += 1\n",
    "        # return ct\n",
    "\n",
    "        mmap = {} # Store Previous running Total in here\n",
    "        result = 0\n",
    "        running_total = 0\n",
    "        mmap[running_total] = 1 # store initial running total\n",
    "        for a in arr:\n",
    "            #Update running total, treat zeros as -1\n",
    "            if a == 1:\n",
    "                print('Adding to running total')\n",
    "                running_total += 1\n",
    "                print('running_total',running_total)\n",
    "            else:\n",
    "                print('Decreasing to running total')\n",
    "                running_total -= 1\n",
    "            #Check if running total has been previously seen\n",
    "            #if so, it means we have reached an equal number of 1s and 0s\n",
    "            #if not, store it to check later\n",
    "            if running_total not in mmap:\n",
    "                print('adding a new key to dictionary',running_total)\n",
    "                mmap[running_total] = 1\n",
    "            else:\n",
    "                print('adding to result ',mmap[running_total])\n",
    "                result += mmap[running_total]\n",
    "                mmap[running_total] +=1\n",
    "        print(mmap)\n",
    "        return result\n"
   ]
  },
  {
   "cell_type": "code",
   "execution_count": 58,
   "metadata": {},
   "outputs": [
    {
     "name": "stdout",
     "output_type": "stream",
     "text": [
      "Adding to running total\n",
      "running_total 1\n",
      "adding a new key to dictionary 1\n",
      "Decreasing to running total\n",
      "adding to result  1\n",
      "Decreasing to running total\n",
      "adding a new key to dictionary -1\n",
      "Adding to running total\n",
      "running_total 0\n",
      "adding to result  2\n",
      "Decreasing to running total\n",
      "adding to result  1\n",
      "Adding to running total\n",
      "running_total 0\n",
      "adding to result  3\n",
      "Adding to running total\n",
      "running_total 1\n",
      "adding to result  1\n",
      "{0: 4, 1: 2, -1: 2}\n"
     ]
    },
    {
     "data": {
      "text/plain": [
       "8"
      ]
     },
     "execution_count": 58,
     "metadata": {},
     "output_type": "execute_result"
    }
   ],
   "source": [
    "test= Solution()\n",
    "arr =[1, 0, 0, 1, 0, 1, 1]\n",
    "\n",
    "test.countSubarrWithEqualZeroAndOne(arr,len(arr))\n"
   ]
  },
  {
   "cell_type": "markdown",
   "metadata": {},
   "source": []
  },
  {
   "cell_type": "markdown",
   "metadata": {},
   "source": []
  },
  {
   "cell_type": "code",
   "execution_count": 55,
   "metadata": {},
   "outputs": [],
   "source": [
    "class Solution:\n",
    "    \n",
    "    #Function to count subarrays with 1s and 0s.\n",
    "    def countSubarrWithEqualZeroAndOne(self,arr, n):\n",
    "        mmap = {} # Store Previous running Total in here\n",
    "        result = 0\n",
    "        running_total = 0\n",
    "        mmap[running_total] = 1 # store initial running total\n",
    "        for a in arr:\n",
    "            #Update running total, treat zeros as -1\n",
    "            if a == 0:\n",
    "                print('Adding to running total')\n",
    "                running_total -= 1\n",
    "                print('running_total',running_total)\n",
    "            else:\n",
    "                print('Decreasing to running total')\n",
    "                running_total += 1\n",
    "                print('      running_total',running_total)\n",
    "            #Check if running total has been previously seen\n",
    "            #if so, it means we have reached an equal number of 1s and 0s\n",
    "            #if not, store it to check later\n",
    "            if running_total not in mmap:\n",
    "                print('adding a new key to dictionary',running_total)\n",
    "                mmap[running_total] = 1\n",
    "                print(mmap)\n",
    "            else:\n",
    "                print('adding to result ',mmap[running_total])\n",
    "                result += mmap[running_total]\n",
    "                mmap[running_total] +=1\n",
    "        print(mmap)\n",
    "        return result\n"
   ]
  },
  {
   "cell_type": "code",
   "execution_count": 56,
   "metadata": {},
   "outputs": [
    {
     "name": "stdout",
     "output_type": "stream",
     "text": [
      "Decreasing to running total\n",
      "      running_total 1\n",
      "adding a new key to dictionary 1\n",
      "{0: 1, 1: 1}\n",
      "Adding to running total\n",
      "running_total 0\n",
      "adding to result  1\n",
      "Adding to running total\n",
      "running_total -1\n",
      "adding a new key to dictionary -1\n",
      "{0: 2, 1: 1, -1: 1}\n",
      "Decreasing to running total\n",
      "      running_total 0\n",
      "adding to result  2\n",
      "Adding to running total\n",
      "running_total -1\n",
      "adding to result  1\n",
      "Decreasing to running total\n",
      "      running_total 0\n",
      "adding to result  3\n",
      "Decreasing to running total\n",
      "      running_total 1\n",
      "adding to result  1\n",
      "{0: 4, 1: 2, -1: 2}\n"
     ]
    },
    {
     "data": {
      "text/plain": [
       "8"
      ]
     },
     "execution_count": 56,
     "metadata": {},
     "output_type": "execute_result"
    }
   ],
   "source": [
    "test= Solution()\n",
    "arr =[1, 0, 0, 1, 0, 1, 1]\n",
    "\n",
    "test.countSubarrWithEqualZeroAndOne(arr,len(arr))"
   ]
  },
  {
   "cell_type": "code",
   "execution_count": null,
   "metadata": {},
   "outputs": [],
   "source": []
  },
  {
   "cell_type": "code",
   "execution_count": null,
   "metadata": {},
   "outputs": [],
   "source": []
  }
 ],
 "metadata": {
  "interpreter": {
   "hash": "ad2bdc8ecc057115af97d19610ffacc2b4e99fae6737bb82f5d7fb13d2f2c186"
  },
  "kernelspec": {
   "display_name": "Python 3.9.7 ('base')",
   "language": "python",
   "name": "python3"
  },
  "language_info": {
   "codemirror_mode": {
    "name": "ipython",
    "version": 3
   },
   "file_extension": ".py",
   "mimetype": "text/x-python",
   "name": "python",
   "nbconvert_exporter": "python",
   "pygments_lexer": "ipython3",
   "version": "3.9.7"
  },
  "orig_nbformat": 4
 },
 "nbformat": 4,
 "nbformat_minor": 2
}
