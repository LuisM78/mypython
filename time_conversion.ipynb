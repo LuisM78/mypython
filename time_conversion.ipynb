{
 "cells": [
  {
   "cell_type": "code",
   "execution_count": 2,
   "metadata": {},
   "outputs": [],
   "source": [
    "#!/bin/python3\n",
    "\n",
    "import math\n",
    "import os\n",
    "import random\n",
    "import re\n",
    "import sys\n",
    "\n",
    "#\n",
    "# Complete the 'timeConversion' function below.\n",
    "#\n",
    "# The function is expected to return a STRING.\n",
    "# The function accepts STRING s as parameter.\n",
    "#\n",
    "\n",
    "def timeConversion(s):\n",
    "    # Write your code here\n",
    "    if s[-2:] == \"AM\":\n",
    "        res = s[:-2].split(\":\")\n",
    "        if int(res[0]) ==12:\n",
    "            return '00:'+ str(res[1])+\":\"+ str(res[2])\n",
    "        elif int(res[0]) >12:\n",
    "            return '00:'+ str(res[1])+\":\"+ str(res[2])\n",
    "            \n",
    "            \n",
    "        else:\n",
    "            return str(res[0])+\":\"+ str(res[1])+\":\"+ str(res[2])  \n",
    "    else:\n",
    "        res = s[:-2].split(\":\")\n",
    "        if res[0] == \"12\":\n",
    "            return \"12\"+\":\"+ str(res[1])+\":\"+ str(res[2])\n",
    "        \n",
    "        else:\n",
    "            res = s[:-2].split(\":\")\n",
    "            first= str(int(res[0])+12)\n",
    "            \n",
    "            return first+\":\"+ str(res[1])+\":\"+ str(res[2])\n",
    " \n",
    "\n"
   ]
  },
  {
   "cell_type": "code",
   "execution_count": 3,
   "metadata": {},
   "outputs": [],
   "source": [
    "s=\"12:45:54PM\""
   ]
  },
  {
   "cell_type": "code",
   "execution_count": 4,
   "metadata": {},
   "outputs": [
    {
     "data": {
      "text/plain": [
       "'12:45:54'"
      ]
     },
     "execution_count": 4,
     "metadata": {},
     "output_type": "execute_result"
    }
   ],
   "source": [
    " timeConversion(s)"
   ]
  },
  {
   "cell_type": "code",
   "execution_count": null,
   "metadata": {},
   "outputs": [],
   "source": []
  }
 ],
 "metadata": {
  "interpreter": {
   "hash": "8f2da782a53ffb8d5a9c0ba3b43a502e539ac29bc11dcc391bea25e978b4bb7a"
  },
  "kernelspec": {
   "display_name": "Python 3.10.5 64-bit (windows store)",
   "language": "python",
   "name": "python3"
  },
  "language_info": {
   "codemirror_mode": {
    "name": "ipython",
    "version": 3
   },
   "file_extension": ".py",
   "mimetype": "text/x-python",
   "name": "python",
   "nbconvert_exporter": "python",
   "pygments_lexer": "ipython3",
   "version": "3.10.5"
  },
  "orig_nbformat": 4
 },
 "nbformat": 4,
 "nbformat_minor": 2
}
