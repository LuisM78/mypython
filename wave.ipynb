{
 "cells": [
  {
   "cell_type": "code",
   "execution_count": 2,
   "metadata": {},
   "outputs": [],
   "source": [
    "def convertToWave( n, a ):\n",
    "    # code here\n",
    "    \n",
    "    # i = 0 \n",
    "    # b = [0]*n\n",
    "    # while i < len(a):\n",
    "    #     sliding=a[i:i+4]\n",
    "    #     #print(sliding)\n",
    "    #     if len(sliding) == 4:\n",
    "    #         b[i]=sliding[1]\n",
    "    #         b[i+1]=sliding[0]\n",
    "    #         b[i+2]=sliding[3]\n",
    "    #         b[i+3]=sliding[2]\n",
    "    #     if len(sliding) ==3:\n",
    "    #         b[i]=sliding[1]\n",
    "    #         b[i+1]=sliding[0]\n",
    "    #         b[i+2]=sliding[3]\n",
    "    #     if len(sliding) ==2:\n",
    "    #         b[i]=sliding[1]\n",
    "    #         b[i+1]=sliding[0]\n",
    "    #     if len(sliding) ==1:\n",
    "    #         b[i]=sliding[0]\n",
    "                \n",
    "    #     #print(b)\n",
    "    #     i +=4\n",
    "    # a.clear()\n",
    "    # a[:]=b\n",
    "    # return a\n",
    "    for i in range(0,n-1,2):\n",
    "        a[i], a[i+1] = a[i+1], a[i]\n",
    "    return a"
   ]
  },
  {
   "cell_type": "code",
   "execution_count": 3,
   "metadata": {},
   "outputs": [],
   "source": [
    "n = 5\n",
    "arr = [1,2,3,4,5]\n",
    "#Output: 2 1 4 3 5\n",
    "#Explanation: Array elements after \n",
    "#sorting it in wave form are \n",
    "#2 1 4 3 5."
   ]
  },
  {
   "cell_type": "code",
   "execution_count": 5,
   "metadata": {},
   "outputs": [
    {
     "data": {
      "text/plain": [
       "[2, 1, 4, 3, 5]"
      ]
     },
     "execution_count": 5,
     "metadata": {},
     "output_type": "execute_result"
    }
   ],
   "source": [
    "convertToWave(len(arr),arr)\n",
    "arr"
   ]
  },
  {
   "cell_type": "code",
   "execution_count": null,
   "metadata": {},
   "outputs": [],
   "source": []
  },
  {
   "cell_type": "code",
   "execution_count": null,
   "metadata": {},
   "outputs": [],
   "source": []
  }
 ],
 "metadata": {
  "kernelspec": {
   "display_name": "Python 3.10.5 64-bit (windows store)",
   "language": "python",
   "name": "python3"
  },
  "language_info": {
   "codemirror_mode": {
    "name": "ipython",
    "version": 3
   },
   "file_extension": ".py",
   "mimetype": "text/x-python",
   "name": "python",
   "nbconvert_exporter": "python",
   "pygments_lexer": "ipython3",
   "version": "3.10.5"
  },
  "orig_nbformat": 4,
  "vscode": {
   "interpreter": {
    "hash": "8f2da782a53ffb8d5a9c0ba3b43a502e539ac29bc11dcc391bea25e978b4bb7a"
   }
  }
 },
 "nbformat": 4,
 "nbformat_minor": 2
}
