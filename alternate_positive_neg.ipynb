{
 "cells": [
  {
   "cell_type": "code",
   "execution_count": 1,
   "metadata": {},
   "outputs": [],
   "source": [
    "def rearrange(arr, n):\n",
    "    # code here\n",
    "    # pos = []\n",
    "    # neg = []\n",
    "    # for i in arr:\n",
    "    #     if i <0:\n",
    "    #         neg.append(i)\n",
    "    #     else:\n",
    "    #         pos.append(i)\n",
    "    # arr2 = []\n",
    "    # n = len(arr)\n",
    "    # i = 0\n",
    "    # poslen = len(pos)\n",
    "    # neglen = len(neg)\n",
    "    # while len(pos) > 0 and len(neg) > 0:\n",
    "    #     arr2.append(pos.pop(0))\n",
    "    #     arr2.append(neg.pop(0))\n",
    "    # while pos:\n",
    "    #     arr2.append(pos.pop(0))\n",
    "    # while neg:\n",
    "    #     arr2.append(neg.pop(0))\n",
    "    # arr[:]= arr2\n",
    "    positive_list = []\n",
    "    negative_list = []\n",
    "    \n",
    "    for num in arr:\n",
    "        if num >= 0:\n",
    "            positive_list.append(num)\n",
    "        else:\n",
    "            negative_list.append(num)\n",
    "    \n",
    "    arr.clear() #clear list\n",
    "    \n",
    "    arr[:] = positive_list[:]\n",
    "    index = 1\n",
    "    \n",
    "    for num in negative_list:\n",
    "        arr.insert(index,num)\n",
    "        index += 2"
   ]
  },
  {
   "cell_type": "markdown",
   "metadata": {},
   "source": [
    "Given an unsorted array Arr of N positive and negative numbers. Your task is to create an array of alternate positive and negative numbers without changing the relative order of positive and negative numbers.\n",
    "Note: Array should start with positive number.\n",
    "Input: \n",
    "\n",
    "N = 9\n",
    "\n",
    "Arr[] = {9, 4, -2, -1, 5, 0, -5, -3, 2}\n",
    "\n",
    "Output:\n",
    "9 -2 4 -1 5 -5 0 -3 2\n",
    "\n",
    "Input: \n",
    "N = 10\n",
    "\n",
    "Arr[] = {-5, -2, 5, 2, 4, 7, 1, 8, 0, -8}\n",
    "\n",
    "Output:\n",
    "5 -5 2 -2 4 -8 7 1 8 0 "
   ]
  },
  {
   "cell_type": "code",
   "execution_count": 2,
   "metadata": {},
   "outputs": [
    {
     "data": {
      "text/plain": [
       "[9, -2, 4, -1, 5, -5, 0, -3, 2]"
      ]
     },
     "execution_count": 2,
     "metadata": {},
     "output_type": "execute_result"
    }
   ],
   "source": [
    "arr= [9, 4, -2, -1, 5, 0, -5, -3, 2]\n",
    "rearrange(arr,len(arr))\n",
    "arr"
   ]
  },
  {
   "cell_type": "code",
   "execution_count": 3,
   "metadata": {},
   "outputs": [
    {
     "data": {
      "text/plain": [
       "[5, -5, 2, -2, 4, -8, 7, 1, 8, 0]"
      ]
     },
     "execution_count": 3,
     "metadata": {},
     "output_type": "execute_result"
    }
   ],
   "source": [
    "arr = [-5, -2, 5, 2, 4, 7, 1, 8, 0, -8]\n",
    "rearrange(arr,len(arr))\n",
    "arr"
   ]
  },
  {
   "cell_type": "code",
   "execution_count": 10,
   "metadata": {},
   "outputs": [],
   "source": [
    "def rearre_luis(arr):\n",
    "    pos = []\n",
    "    neg = []\n",
    "    for i in arr:\n",
    "        if i>= 0:\n",
    "            pos.append(i)\n",
    "        else:\n",
    "            neg.append(i)\n",
    "    arr2 = []\n",
    "    arr2[:] = pos[:]\n",
    "    i = 1\n",
    "    n = 0\n",
    "    len_neg = len(neg)\n",
    "    while n < len_neg:\n",
    "        arr2.insert(i,neg[n])\n",
    "        n+=1\n",
    "        i+=2\n",
    "    arr[:] = arr2[:]\n",
    "    return \n",
    "\n"
   ]
  },
  {
   "cell_type": "code",
   "execution_count": 11,
   "metadata": {},
   "outputs": [
    {
     "name": "stdout",
     "output_type": "stream",
     "text": [
      "[5, -5, 2, -2, 4, -8, 7, 1, 8, 0]\n",
      "[5, -5, 2, -2, 4, -8, 7, 1, 8, 0]\n"
     ]
    }
   ],
   "source": [
    "arr = [-5, -2, 5, 2, 4, 7, 1, 8, 0, -8]\n",
    "rearre_luis(arr)\n",
    "print(arr)\n",
    "\n",
    "arr = [-5, -2, 5, 2, 4, 7, 1, 8, 0, -8]\n",
    "rearrange(arr,len(arr))\n",
    "print(arr)\n"
   ]
  },
  {
   "cell_type": "code",
   "execution_count": 1,
   "metadata": {},
   "outputs": [],
   "source": [
    "mylist=[[1,1],2,[1,1]]"
   ]
  },
  {
   "cell_type": "code",
   "execution_count": 30,
   "metadata": {},
   "outputs": [],
   "source": [
    "class Solution():\n",
    "    def depth_sum(self,nested_list):\n",
    "        def dfs(nested_list,depth):\n",
    "            total = 0\n",
    "            for i in nested_list:\n",
    "                if type(i)==int:\n",
    "                    total+= i*depth\n",
    "                else:\n",
    "                    total += dfs(i,depth+1)\n",
    "            return total\n",
    "    \n",
    "        return dfs(nested_list,1)"
   ]
  },
  {
   "cell_type": "code",
   "execution_count": 31,
   "metadata": {},
   "outputs": [
    {
     "data": {
      "text/plain": [
       "10"
      ]
     },
     "execution_count": 31,
     "metadata": {},
     "output_type": "execute_result"
    }
   ],
   "source": [
    "A = Solution()\n",
    "A.depth_sum(mylist)"
   ]
  },
  {
   "cell_type": "code",
   "execution_count": 1,
   "metadata": {},
   "outputs": [
    {
     "data": {
      "text/plain": [
       "0"
      ]
     },
     "execution_count": 1,
     "metadata": {},
     "output_type": "execute_result"
    }
   ],
   "source": [
    "import os\n",
    "os.system(\"powershell.exe echo hello world\")"
   ]
  },
  {
   "cell_type": "code",
   "execution_count": 1,
   "metadata": {},
   "outputs": [
    {
     "name": "stdout",
     "output_type": "stream",
     "text": [
      "adding another change from previously existing codespace\n"
     ]
    }
   ],
   "source": [
    "print('adding another change from previously existing codespace')"
   ]
  },
  {
   "cell_type": "code",
   "execution_count": null,
   "metadata": {},
   "outputs": [],
   "source": []
  }
 ],
 "metadata": {
  "kernelspec": {
   "display_name": "Python 3",
   "language": "python",
   "name": "python3"
  },
  "language_info": {
   "codemirror_mode": {
    "name": "ipython",
    "version": 3
   },
   "file_extension": ".py",
   "mimetype": "text/x-python",
   "name": "python",
   "nbconvert_exporter": "python",
   "pygments_lexer": "ipython3",
   "version": "3.10.13"
  },
  "orig_nbformat": 4,
  "vscode": {
   "interpreter": {
    "hash": "c347c8f9a7ef94e4c9e03b4513be7835ed18f45b99a2a817fb579f408b867b16"
   }
  }
 },
 "nbformat": 4,
 "nbformat_minor": 2
}
