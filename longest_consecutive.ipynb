{
 "cells": [
  {
   "cell_type": "markdown",
   "metadata": {},
   "source": [
    "## Longest consecutive subsequence\n",
    "\n",
    "Given an array of positive integers. Find the length of the longest sub-sequence such that elements in the subsequence are consecutive integers, the consecutive numbers can be in any order.\n",
    " "
   ]
  },
  {
   "cell_type": "markdown",
   "metadata": {},
   "source": [
    "Example 1:\n",
    "\n",
    "Input:\n",
    "N = 7\n",
    "a[] = {2,6,1,9,4,5,3}\n",
    "Output:\n",
    "6\n",
    "Explanation:\n",
    "The consecutive numbers here\n",
    "are 1, 2, 3, 4, 5, 6. These 6 \n",
    "numbers form the longest consecutive\n",
    "subsquence.\n",
    "Example 2:\n",
    "\n",
    "Input:\n",
    "N = 7\n",
    "a[] = {1,9,3,10,4,20,2}\n",
    "Output:\n",
    "4\n",
    "Explanation:\n",
    "1, 2, 3, 4 is the longest\n",
    "consecutive subsequence.\n",
    "\n",
    "Your Task:\n",
    "You don't need to read input or print anything. Your task is to complete the function findLongestConseqSubseq() which takes the array arr[] and the size of the array as inputs and returns the length of the longest subsequence of consecutive integers. \n",
    "\n",
    "\n",
    "Expected Time Complexity: O(N).\n",
    "Expected Auxiliary Space: O(N)."
   ]
  },
  {
   "cell_type": "code",
   "execution_count": 3,
   "metadata": {},
   "outputs": [],
   "source": [
    "def findLongestConseqSubseq(arr):\n",
    "    if len(arr)==1:\n",
    "        return 1\n",
    "\n",
    "    ct = 1\n",
    "    max_value = 0\n",
    "    min_value_array = min(arr)\n",
    "    max_value_array = max(arr) +1\n",
    "    \n",
    "    d = {}\n",
    "    for i in arr:\n",
    "        d[i]= 1\n",
    "    \n",
    "    for i in range(min_value_array, max_value_array):\n",
    "        if i+1 in d:\n",
    "            \n",
    "            ct += 1\n",
    "            max_value = max(max_value, ct)\n",
    "            \n",
    "        else:\n",
    "            ct = 0\n",
    "    \n",
    "    return max_value\n",
    "                "
   ]
  },
  {
   "cell_type": "code",
   "execution_count": 4,
   "metadata": {},
   "outputs": [
    {
     "data": {
      "text/plain": [
       "4"
      ]
     },
     "execution_count": 4,
     "metadata": {},
     "output_type": "execute_result"
    },
    {
     "ename": "",
     "evalue": "",
     "output_type": "error",
     "traceback": [
      "\u001b[1;31mThe Kernel crashed while executing code in the the current cell or a previous cell. Please review the code in the cell(s) to identify a possible cause of the failure. Click <a href='https://aka.ms/vscodeJupyterKernelCrash'>here</a> for more info. View Jupyter <a href='command:jupyter.viewOutput'>log</a> for further details."
     ]
    }
   ],
   "source": [
    "arr = [1,9,3,10,4,20,2]\n",
    "findLongestConseqSubseq(arr)"
   ]
  },
  {
   "cell_type": "code",
   "execution_count": null,
   "metadata": {},
   "outputs": [],
   "source": []
  }
 ],
 "metadata": {
  "interpreter": {
   "hash": "8f2da782a53ffb8d5a9c0ba3b43a502e539ac29bc11dcc391bea25e978b4bb7a"
  },
  "kernelspec": {
   "display_name": "Python 3.10.5 64-bit (windows store)",
   "language": "python",
   "name": "python3"
  },
  "language_info": {
   "codemirror_mode": {
    "name": "ipython",
    "version": 3
   },
   "file_extension": ".py",
   "mimetype": "text/x-python",
   "name": "python",
   "nbconvert_exporter": "python",
   "pygments_lexer": "ipython3",
   "version": "3.10.5"
  },
  "orig_nbformat": 4
 },
 "nbformat": 4,
 "nbformat_minor": 2
}
