{
 "cells": [
  {
   "cell_type": "code",
   "execution_count": 45,
   "metadata": {},
   "outputs": [],
   "source": [
    "def findmin(arr,dep):\n",
    "    platform = 1\n",
    "    max_platform = 1\n",
    "    arr = list(map(int,arr))\n",
    "    dep = list(map(int,dep))\n",
    "    print(arr)\n",
    "    print(dep)\n",
    "    arr.sort()\n",
    "    dep.sort()\n",
    "    i = 1\n",
    "    j = 0\n",
    "    while i < len(arr) and j < len(dep):\n",
    "        if arr[i] <= dep[j]:\n",
    "            print('arr[i]',arr[i],\"arr[j]\",dep[j])\n",
    "            platform+=1\n",
    "            print('added one to platform =',platform)\n",
    "            i+=1\n",
    "        else:\n",
    "            print('           arriva arr[i]=',arr[i],\"departure arr[j]\",dep[j])\n",
    "            platform-=1\n",
    "            j+=1\n",
    "            print('            Substracted one to platform =',platform)\n",
    "        max_platform = max(max_platform,platform)\n",
    "        \n",
    "    return max_platform"
   ]
  },
  {
   "cell_type": "code",
   "execution_count": 46,
   "metadata": {},
   "outputs": [],
   "source": [
    "arr = [\"0900\", \"0940\", \"0950\", \"1100\", \"1500\", \"1800\"]\n",
    "dep = [\"0910\", \"1200\", \"1120\", \"1130\",\"1900\", \"2000\"]"
   ]
  },
  {
   "cell_type": "code",
   "execution_count": 47,
   "metadata": {},
   "outputs": [
    {
     "name": "stdout",
     "output_type": "stream",
     "text": [
      "[900, 940, 950, 1100, 1500, 1800]\n",
      "[910, 1200, 1120, 1130, 1900, 2000]\n",
      "           arriva arr[i]= 940 departure arr[j] 910\n",
      "            Substracted one to platform = 0\n",
      "arr[i] 940 arr[j] 1120\n",
      "added one to platform = 1\n",
      "arr[i] 950 arr[j] 1120\n",
      "added one to platform = 2\n",
      "arr[i] 1100 arr[j] 1120\n",
      "added one to platform = 3\n",
      "           arriva arr[i]= 1500 departure arr[j] 1120\n",
      "            Substracted one to platform = 2\n",
      "           arriva arr[i]= 1500 departure arr[j] 1130\n",
      "            Substracted one to platform = 1\n",
      "           arriva arr[i]= 1500 departure arr[j] 1200\n",
      "            Substracted one to platform = 0\n",
      "arr[i] 1500 arr[j] 1900\n",
      "added one to platform = 1\n",
      "arr[i] 1800 arr[j] 1900\n",
      "added one to platform = 2\n"
     ]
    },
    {
     "data": {
      "text/plain": [
       "3"
      ]
     },
     "execution_count": 47,
     "metadata": {},
     "output_type": "execute_result"
    }
   ],
   "source": [
    "findmin(arr,dep)"
   ]
  },
  {
   "cell_type": "code",
   "execution_count": 48,
   "metadata": {},
   "outputs": [
    {
     "name": "stdout",
     "output_type": "stream",
     "text": [
      "[900, 1100, 1235]\n",
      "[1000, 1200, 1240]\n",
      "           arriva arr[i]= 1100 departure arr[j] 1000\n",
      "            Substracted one to platform = 0\n",
      "arr[i] 1100 arr[j] 1200\n",
      "added one to platform = 1\n",
      "           arriva arr[i]= 1235 departure arr[j] 1200\n",
      "            Substracted one to platform = 0\n",
      "arr[i] 1235 arr[j] 1240\n",
      "added one to platform = 1\n"
     ]
    },
    {
     "data": {
      "text/plain": [
       "1"
      ]
     },
     "execution_count": 48,
     "metadata": {},
     "output_type": "execute_result"
    }
   ],
   "source": [
    "arr = [\"0900\", \"1100\", \"1235\"]\n",
    "dep = [\"1000\", \"1200\", \"1240\"]\n",
    "findmin(arr,dep)"
   ]
  },
  {
   "cell_type": "code",
   "execution_count": null,
   "metadata": {},
   "outputs": [],
   "source": []
  },
  {
   "cell_type": "code",
   "execution_count": null,
   "metadata": {},
   "outputs": [],
   "source": []
  }
 ],
 "metadata": {
  "kernelspec": {
   "display_name": "Python 3.10.5 64-bit (windows store)",
   "language": "python",
   "name": "python3"
  },
  "language_info": {
   "codemirror_mode": {
    "name": "ipython",
    "version": 3
   },
   "file_extension": ".py",
   "mimetype": "text/x-python",
   "name": "python",
   "nbconvert_exporter": "python",
   "pygments_lexer": "ipython3",
   "version": "3.10.5"
  },
  "orig_nbformat": 4,
  "vscode": {
   "interpreter": {
    "hash": "8f2da782a53ffb8d5a9c0ba3b43a502e539ac29bc11dcc391bea25e978b4bb7a"
   }
  }
 },
 "nbformat": 4,
 "nbformat_minor": 2
}
