{
 "cells": [
  {
   "cell_type": "code",
   "execution_count": 5,
   "metadata": {},
   "outputs": [
    {
     "data": {
      "text/plain": [
       "8"
      ]
     },
     "execution_count": 5,
     "metadata": {},
     "output_type": "execute_result"
    }
   ],
   "source": [
    "matrix = [[1, 2, 3, 4],\n",
    "          [5, 6, 7, 8],\n",
    "          [9, 10, 11, 12],\n",
    "          [13, 14, 15,16]]\n",
    "matrix[1][3]"
   ]
  },
  {
   "cell_type": "code",
   "execution_count": 6,
   "metadata": {},
   "outputs": [],
   "source": [
    "def spiral(matrix,r,c):\n",
    "    left = 0\n",
    "    right = c - 1\n",
    "    top = 0\n",
    "    bottom = r -1\n",
    "    direction = 0\n",
    "    ans = []\n",
    "    while (top<= bottom and left<=right):\n",
    "        if direction == 0:\n",
    "            for i in range(left,right+1):\n",
    "                ans.append(matrix[top][i])\n",
    "            top+=1\n",
    "        elif direction ==1:\n",
    "            for i in range(top,bottom+1):\n",
    "                ans.append(matrix[i][right])\n",
    "            right -= 1\n",
    "        elif direction ==2:\n",
    "            for i in range(right,left-1,-1):\n",
    "                ans.append(matrix[bottom][i])\n",
    "            bottom -=1\n",
    "        else:\n",
    "            for i in range(bottom,top-1,-1):\n",
    "                ans.append(matrix[i][left])\n",
    "            left += 1\n",
    "        direction = (direction+1)%4\n",
    "    return ans"
   ]
  },
  {
   "cell_type": "code",
   "execution_count": 7,
   "metadata": {},
   "outputs": [
    {
     "data": {
      "text/plain": [
       "[1, 2, 3, 4, 8, 12, 16, 15, 14, 13, 9, 5, 6, 7, 11, 10]"
      ]
     },
     "execution_count": 7,
     "metadata": {},
     "output_type": "execute_result"
    }
   ],
   "source": [
    "spiral(matrix,4,4)"
   ]
  },
  {
   "cell_type": "code",
   "execution_count": null,
   "metadata": {},
   "outputs": [],
   "source": []
  }
 ],
 "metadata": {
  "kernelspec": {
   "display_name": "Python 3.10.5 64-bit (windows store)",
   "language": "python",
   "name": "python3"
  },
  "language_info": {
   "codemirror_mode": {
    "name": "ipython",
    "version": 3
   },
   "file_extension": ".py",
   "mimetype": "text/x-python",
   "name": "python",
   "nbconvert_exporter": "python",
   "pygments_lexer": "ipython3",
   "version": "3.10.5"
  },
  "orig_nbformat": 4,
  "vscode": {
   "interpreter": {
    "hash": "8f2da782a53ffb8d5a9c0ba3b43a502e539ac29bc11dcc391bea25e978b4bb7a"
   }
  }
 },
 "nbformat": 4,
 "nbformat_minor": 2
}
