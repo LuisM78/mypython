{
 "cells": [
  {
   "cell_type": "markdown",
   "metadata": {},
   "source": [
    "The span Si of the stocks price on a given day i is defined as the maximum number of consecutive days just before the given day, for which the price of the stock on the current day is less than or equal to its price on the given day.\n",
    "For example, if an array of 7 days prices is given as {100, 80, 60, 70, 60, 75, 85}, then the span values for corresponding 7 days are {1, 1, 1, 2, 1, 4, 6}.\n",
    "\n",
    "Example 1:"
   ]
  },
  {
   "cell_type": "markdown",
   "metadata": {},
   "source": [
    "N = 7, price[] = [100 80 60 70 60 75 85]\n",
    "Output:\n",
    "1 1 1 2 1 4 6"
   ]
  },
  {
   "cell_type": "code",
   "execution_count": 12,
   "metadata": {},
   "outputs": [],
   "source": [
    "def span(arr):\n",
    "    span = [1]\n",
    "    arr\n",
    "    for i in range(1,len(arr)):\n",
    "        n = i-1\n",
    "        ct = 1\n",
    "        while n < i and n>=0 and arr[n]<=arr[i]:\n",
    "            ct +=1\n",
    "            n -= 1\n",
    "        span.append(ct)\n",
    "    return span\n",
    "\n",
    "\n"
   ]
  },
  {
   "cell_type": "code",
   "execution_count": 13,
   "metadata": {},
   "outputs": [
    {
     "data": {
      "text/plain": [
       "[1, 1, 1, 2, 1, 4, 6]"
      ]
     },
     "execution_count": 13,
     "metadata": {},
     "output_type": "execute_result"
    }
   ],
   "source": [
    "mylist = [100, 80, 60, 70, 60, 75, 85]\n",
    "span(mylist)"
   ]
  },
  {
   "cell_type": "code",
   "execution_count": 14,
   "metadata": {},
   "outputs": [],
   "source": [
    "price = [10 ,4 ,5 ,90, 120, 80]\n",
    "\n",
    "# 1 1 2 4 5 1"
   ]
  },
  {
   "cell_type": "code",
   "execution_count": 15,
   "metadata": {},
   "outputs": [
    {
     "data": {
      "text/plain": [
       "[1, 1, 2, 4, 5, 1]"
      ]
     },
     "execution_count": 15,
     "metadata": {},
     "output_type": "execute_result"
    }
   ],
   "source": [
    "span(price)"
   ]
  },
  {
   "cell_type": "markdown",
   "metadata": {},
   "source": [
    "Stack is used to store the index of the stock prices i.e the day numbers.\n",
    "\n",
    "List stores the stock span for each day.\n",
    "\n",
    "Initialize the stock span for day 0 as 1. i.e span [ 0 ] = 1\n",
    "\n",
    "Push the index of the first day i.e 0 into the stack. Stack [ 0 ] = 0\n",
    "\n",
    "For day D from 1 upto N-1 do the following\n",
    "\n",
    "      While (Stack is not Empty) and price [ D ] >= price [ stack.top ( ) ] do\n",
    "            stack.pop ( )\n",
    "      If the stack is not Empty then\n",
    "            span [ D ] = D - stack.top ( )\n",
    "      Else\n",
    "            span [ D ] = D + 1\n",
    "      Push current day D on top of stack. i.e stack.push ( D )"
   ]
  },
  {
   "cell_type": "markdown",
   "metadata": {},
   "source": []
  },
  {
   "cell_type": "code",
   "execution_count": 16,
   "metadata": {},
   "outputs": [],
   "source": [
    "def span2(a):\n",
    "    span=[1]\n",
    "    stack=[0]\n",
    "    for i in range(1,len(a)):\n",
    "        while len(stack)> 0 and a[i]>= a[stack[-1]]:\n",
    "            stack.pop()\n",
    "        if len(stack)>0:\n",
    "            span.append(i-stack[-1])\n",
    "        else:\n",
    "            span.append(i+1)\n",
    "        stack.append(i)\n",
    "\n",
    "    return span"
   ]
  },
  {
   "cell_type": "code",
   "execution_count": 17,
   "metadata": {},
   "outputs": [
    {
     "data": {
      "text/plain": [
       "[1, 1, 2, 4, 5, 1]"
      ]
     },
     "execution_count": 17,
     "metadata": {},
     "output_type": "execute_result"
    }
   ],
   "source": [
    "price = [10 ,4 ,5 ,90, 120, 80]\n",
    "span2(price)"
   ]
  },
  {
   "cell_type": "code",
   "execution_count": 18,
   "metadata": {},
   "outputs": [
    {
     "data": {
      "text/plain": [
       "[1, 1, 2, 4, 5, 1]"
      ]
     },
     "execution_count": 18,
     "metadata": {},
     "output_type": "execute_result"
    }
   ],
   "source": [
    "span(price)"
   ]
  },
  {
   "cell_type": "code",
   "execution_count": 19,
   "metadata": {},
   "outputs": [
    {
     "data": {
      "text/plain": [
       "[1, 1, 1, 2, 1, 4, 6]"
      ]
     },
     "execution_count": 19,
     "metadata": {},
     "output_type": "execute_result"
    }
   ],
   "source": [
    "span(mylist)"
   ]
  },
  {
   "cell_type": "code",
   "execution_count": 20,
   "metadata": {},
   "outputs": [
    {
     "data": {
      "text/plain": [
       "[1, 1, 1, 2, 1, 4, 6]"
      ]
     },
     "execution_count": 20,
     "metadata": {},
     "output_type": "execute_result"
    }
   ],
   "source": [
    "span2(mylist)"
   ]
  },
  {
   "cell_type": "code",
   "execution_count": null,
   "metadata": {},
   "outputs": [],
   "source": []
  }
 ],
 "metadata": {
  "kernelspec": {
   "display_name": "Python 3.10.5 64-bit (windows store)",
   "language": "python",
   "name": "python3"
  },
  "language_info": {
   "codemirror_mode": {
    "name": "ipython",
    "version": 3
   },
   "file_extension": ".py",
   "mimetype": "text/x-python",
   "name": "python",
   "nbconvert_exporter": "python",
   "pygments_lexer": "ipython3",
   "version": "3.10.5"
  },
  "orig_nbformat": 4,
  "vscode": {
   "interpreter": {
    "hash": "8f2da782a53ffb8d5a9c0ba3b43a502e539ac29bc11dcc391bea25e978b4bb7a"
   }
  }
 },
 "nbformat": 4,
 "nbformat_minor": 2
}
