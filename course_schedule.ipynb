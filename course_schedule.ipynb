{
 "cells": [
  {
   "cell_type": "code",
   "execution_count": 1,
   "metadata": {},
   "outputs": [],
   "source": [
    "from collections import defaultdict, deque\n",
    "class Solution:\n",
    "\n",
    "    def findOrder(self, numCourses, prerequisites):\n",
    "        \"\"\"\n",
    "        :type numCourses: int\n",
    "        :type prerequisites: List[List[int]]\n",
    "        :rtype: List[int]\n",
    "        \"\"\"\n",
    "\n",
    "        # Prepare the graph\n",
    "        adj_list = defaultdict(list)\n",
    "        indegree = {}\n",
    "        for dest, src in prerequisites:\n",
    "            adj_list[src].append(dest)\n",
    "\n",
    "            # Record each node's in-degree\n",
    "            indegree[dest] = indegree.get(dest, 0) + 1\n",
    "\n",
    "        # Queue for maintainig list of nodes that have 0 in-degree\n",
    "        zero_indegree_queue = deque([k for k in range(numCourses) if k not in indegree])\n",
    "\n",
    "        topological_sorted_order = []\n",
    "\n",
    "        # Until there are nodes in the Q\n",
    "        while zero_indegree_queue:\n",
    "\n",
    "            # Pop one node with 0 in-degree\n",
    "            vertex = zero_indegree_queue.popleft()\n",
    "            topological_sorted_order.append(vertex)\n",
    "\n",
    "            # Reduce in-degree for all the neighbors\n",
    "            if vertex in adj_list:\n",
    "                for neighbor in adj_list[vertex]:\n",
    "                    indegree[neighbor] -= 1\n",
    "\n",
    "                    # Add neighbor to Q if in-degree becomes 0\n",
    "                    if indegree[neighbor] == 0:\n",
    "                        zero_indegree_queue.append(neighbor)\n",
    "\n",
    "        return topological_sorted_order if len(topological_sorted_order) == numCourses else []"
   ]
  },
  {
   "cell_type": "code",
   "execution_count": 3,
   "metadata": {},
   "outputs": [
    {
     "data": {
      "text/plain": [
       "[0, 1]"
      ]
     },
     "execution_count": 3,
     "metadata": {},
     "output_type": "execute_result"
    }
   ],
   "source": [
    "#2,[[1,0]]\n",
    "A = Solution()\n",
    "A.findOrder(2,[[1,0]])"
   ]
  },
  {
   "cell_type": "code",
   "execution_count": 7,
   "metadata": {},
   "outputs": [],
   "source": [
    "assert(A.findOrder(2,[[1,0]])==[0,1])"
   ]
  },
  {
   "cell_type": "code",
   "execution_count": 9,
   "metadata": {},
   "outputs": [
    {
     "data": {
      "text/plain": [
       "[0, 1, 2, 3]"
      ]
     },
     "execution_count": 9,
     "metadata": {},
     "output_type": "execute_result"
    }
   ],
   "source": [
    "# Expected either [0,1,2,3] or [0,2,1,3]\n",
    "A.findOrder(4,[[1,0],[2,0],[3,1],[3,2]])"
   ]
  },
  {
   "cell_type": "code",
   "execution_count": 10,
   "metadata": {},
   "outputs": [
    {
     "data": {
      "text/plain": [
       "[0]"
      ]
     },
     "execution_count": 10,
     "metadata": {},
     "output_type": "execute_result"
    }
   ],
   "source": [
    "A.findOrder(1,[])"
   ]
  },
  {
   "cell_type": "code",
   "execution_count": 11,
   "metadata": {},
   "outputs": [],
   "source": [
    "assert(A.findOrder(1,[])==[0])"
   ]
  },
  {
   "cell_type": "code",
   "execution_count": null,
   "metadata": {},
   "outputs": [],
   "source": []
  }
 ],
 "metadata": {
  "kernelspec": {
   "display_name": "Python 3.8.5 64-bit",
   "language": "python",
   "name": "python3"
  },
  "language_info": {
   "codemirror_mode": {
    "name": "ipython",
    "version": 3
   },
   "file_extension": ".py",
   "mimetype": "text/x-python",
   "name": "python",
   "nbconvert_exporter": "python",
   "pygments_lexer": "ipython3",
   "version": "3.8.5"
  },
  "orig_nbformat": 4,
  "vscode": {
   "interpreter": {
    "hash": "9650cb4e16cdd4a8e8e2d128bf38d875813998db22a3c986335f89e0cb4d7bb2"
   }
  }
 },
 "nbformat": 4,
 "nbformat_minor": 2
}
