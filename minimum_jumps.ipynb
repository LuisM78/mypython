{
 "cells": [
  {
   "cell_type": "code",
   "execution_count": 32,
   "metadata": {},
   "outputs": [],
   "source": [
    "def minJumps( arr, n):\n",
    "    #code here\n",
    "    print(arr)\n",
    "    if arr[0] == 0:\n",
    "        return -1\n",
    "    minjumps = 0\n",
    "    i = 0\n",
    "    jumps = 0\n",
    "    while i < n and jumps < n:\n",
    "        jumps = arr[i]\n",
    "        print(jumps)\n",
    "        #if jumps <n:\n",
    "        if jumps <n: #and arr[jumps] != 0:\n",
    "            i = jumps + i\n",
    "            minjumps += 1\n",
    "        #else:\n",
    "        ##    jumps = jumps -1\n",
    "        #    i = jumps +i\n",
    "    print(\"minjumps\",minjumps)\n",
    "    return minjumps"
   ]
  },
  {
   "cell_type": "code",
   "execution_count": 33,
   "metadata": {},
   "outputs": [],
   "source": [
    "arr= [1,3,5,8,9,2,6,7,6,8,9]"
   ]
  },
  {
   "cell_type": "code",
   "execution_count": 34,
   "metadata": {},
   "outputs": [
    {
     "name": "stdout",
     "output_type": "stream",
     "text": [
      "[1, 3, 5, 8, 9, 2, 6, 7, 6, 8, 9]\n",
      "1\n",
      "3\n",
      "9\n",
      "minjumps 3\n",
      "3\n"
     ]
    }
   ],
   "source": [
    "print(minJumps(arr,len(arr)))"
   ]
  },
  {
   "cell_type": "code",
   "execution_count": 35,
   "metadata": {},
   "outputs": [
    {
     "name": "stdout",
     "output_type": "stream",
     "text": [
      "[1, 4, 3, 2, 6, 7]\n",
      "1\n",
      "4\n",
      "7\n",
      "minjumps 2\n",
      "2\n"
     ]
    }
   ],
   "source": [
    "arr= [1, 4, 3, 2, 6, 7]\n",
    "print(minJumps(arr,len(arr)))"
   ]
  },
  {
   "cell_type": "code",
   "execution_count": 36,
   "metadata": {},
   "outputs": [
    {
     "name": "stdout",
     "output_type": "stream",
     "text": [
      "[2, 3, 1, 1, 2, 4, 2, 0, 1, 1]\n",
      "2\n",
      "1\n",
      "1\n",
      "2\n",
      "2\n",
      "1\n",
      "1\n",
      "minjumps 7\n",
      "7\n"
     ]
    }
   ],
   "source": [
    "arr= [2, 3, 1, 1, 2, 4, 2, 0, 1, 1]\n",
    "print(minJumps(arr,len(arr)))"
   ]
  },
  {
   "cell_type": "code",
   "execution_count": 189,
   "metadata": {},
   "outputs": [],
   "source": [
    "def minJumps( arr, n):\n",
    "    #code here\n",
    "    #print(arr)\n",
    "    if arr[0] == 0:\n",
    "        return -1\n",
    "    minjumps = 1\n",
    "    i = 0\n",
    "    jumps = 0\n",
    "    max_jumps = 0\n",
    "    while i <n and i+max_jumps<n:\n",
    "        jumps = arr[i]\n",
    "        print(\"jumps=\",jumps)\n",
    "        max_value = 0\n",
    "        currentlimit = i\n",
    "        j = i\n",
    "        while j < n-1 and j < currentlimit + jumps :\n",
    "            value = arr[j+1]\n",
    "            print('value',value)\n",
    "            max_value = max(max_value, value)\n",
    "            j += 1\n",
    "        max_jumps = max_value\n",
    "        print('max_jumps',max_jumps)\n",
    "        print('i+max_jumps',i+max_jumps)\n",
    "        if i+max_jumps <n and arr[i+max_jumps] == 0:\n",
    "            return -1\n",
    "        #if jumps <n:\n",
    "        if i+max_jumps+1 <n: #and arr[jumps] != 0:\n",
    "            i = i + max_jumps +1\n",
    "            print('new i=', i)\n",
    "            minjumps += 1\n",
    "            print('minjumps', minjumps)\n",
    "        if i+max_jumps+1>n:\n",
    "\n",
    "            minjumps +=1\n",
    "        \n",
    "    print(\"minjumps= \",minjumps)\n",
    "    return minjumps"
   ]
  },
  {
   "cell_type": "code",
   "execution_count": 190,
   "metadata": {},
   "outputs": [],
   "source": [
    "arr = [2, 3,1, 1, 2, 4, 2, 0, 1, 1]"
   ]
  },
  {
   "cell_type": "code",
   "execution_count": 191,
   "metadata": {},
   "outputs": [
    {
     "name": "stdout",
     "output_type": "stream",
     "text": [
      "jumps= 2\n",
      "value 3\n",
      "value 1\n",
      "max_jumps 3\n",
      "i+max_jumps 3\n",
      "new i= 4\n",
      "minjumps 2\n",
      "jumps= 2\n",
      "value 4\n",
      "value 2\n",
      "max_jumps 4\n",
      "i+max_jumps 8\n",
      "new i= 9\n",
      "minjumps 3\n",
      "minjumps=  4\n"
     ]
    },
    {
     "data": {
      "text/plain": [
       "4"
      ]
     },
     "execution_count": 191,
     "metadata": {},
     "output_type": "execute_result"
    }
   ],
   "source": [
    "minJumps(arr,len(arr))"
   ]
  },
  {
   "cell_type": "code",
   "execution_count": 192,
   "metadata": {},
   "outputs": [
    {
     "name": "stdout",
     "output_type": "stream",
     "text": [
      "jumps= 1\n",
      "value 3\n",
      "max_jumps 3\n",
      "i+max_jumps 3\n",
      "new i= 4\n",
      "minjumps 2\n",
      "jumps= 9\n",
      "value 2\n",
      "value 6\n",
      "value 7\n",
      "value 6\n",
      "value 8\n",
      "value 9\n",
      "max_jumps 9\n",
      "i+max_jumps 13\n",
      "minjumps=  3\n"
     ]
    },
    {
     "data": {
      "text/plain": [
       "3"
      ]
     },
     "execution_count": 192,
     "metadata": {},
     "output_type": "execute_result"
    }
   ],
   "source": [
    "arr= [1,3,5,8,9,2,6,7,6,8,9]\n",
    "minJumps(arr,len(arr))"
   ]
  },
  {
   "cell_type": "code",
   "execution_count": 193,
   "metadata": {},
   "outputs": [],
   "source": [
    "arr= [1,3,5,8,9,2,6,7,6,8,9]"
   ]
  },
  {
   "cell_type": "code",
   "execution_count": 230,
   "metadata": {},
   "outputs": [],
   "source": [
    "def minJumps( arr, n):\n",
    "    #code here\n",
    "    #print(arr)\n",
    "    print('length n is',n)\n",
    "    maxend = 0\n",
    "    currend= 0\n",
    "    jump = 0\n",
    "    if n == 1:\n",
    "        return 0\n",
    "    for i in range(n):\n",
    "        maxend = max(maxend, i+arr[i])\n",
    "        print(\"i= {} arr[i]= {} maxend = {} currentd= {}\".format(i,arr[i],maxend,currend))\n",
    "        if maxend >= n-1:\n",
    "            print('              exiting, maxend>=n-1,maxend={}'.format(maxend))\n",
    "            return jump+1\n",
    "        elif i == maxend:\n",
    "            return -1\n",
    "        elif i==currend:\n",
    "            jump+=1\n",
    "            currend=maxend\n",
    "            print(\"       jump= {} currend = {}\".format(jump,currend))            \n",
    "    return jump"
   ]
  },
  {
   "cell_type": "code",
   "execution_count": 242,
   "metadata": {},
   "outputs": [
    {
     "name": "stdout",
     "output_type": "stream",
     "text": [
      "length n is 19\n",
      "i= 0 arr[i]= 1 maxend = 1 currentd= 0\n",
      "       jump= 1 currend = 1\n",
      "i= 1 arr[i]= 3 maxend = 4 currentd= 1\n",
      "       jump= 2 currend = 4\n",
      "i= 2 arr[i]= 5 maxend = 7 currentd= 4\n",
      "i= 3 arr[i]= 8 maxend = 11 currentd= 4\n",
      "i= 4 arr[i]= 9 maxend = 13 currentd= 4\n",
      "       jump= 3 currend = 13\n",
      "i= 5 arr[i]= 2 maxend = 13 currentd= 13\n",
      "i= 6 arr[i]= 6 maxend = 13 currentd= 13\n",
      "i= 7 arr[i]= 7 maxend = 14 currentd= 13\n",
      "i= 8 arr[i]= 6 maxend = 14 currentd= 13\n",
      "i= 9 arr[i]= 8 maxend = 17 currentd= 13\n",
      "i= 10 arr[i]= 1 maxend = 17 currentd= 13\n",
      "i= 11 arr[i]= 1 maxend = 17 currentd= 13\n",
      "i= 12 arr[i]= 5 maxend = 17 currentd= 13\n",
      "i= 13 arr[i]= 2 maxend = 17 currentd= 13\n",
      "       jump= 4 currend = 17\n",
      "i= 14 arr[i]= 1 maxend = 17 currentd= 17\n",
      "i= 15 arr[i]= 1 maxend = 17 currentd= 17\n",
      "i= 16 arr[i]= 1 maxend = 17 currentd= 17\n",
      "i= 17 arr[i]= 1 maxend = 18 currentd= 17\n",
      "              exiting, maxend>=n-1,maxend=18\n"
     ]
    },
    {
     "data": {
      "text/plain": [
       "5"
      ]
     },
     "execution_count": 242,
     "metadata": {},
     "output_type": "execute_result"
    }
   ],
   "source": [
    "arr= [1,3,5,8,9,2,6,7,6,8,1,1,5,2,1,1,1,1,1]\n",
    "minJumps(arr,len(arr))"
   ]
  },
  {
   "cell_type": "code",
   "execution_count": null,
   "metadata": {},
   "outputs": [],
   "source": []
  },
  {
   "cell_type": "code",
   "execution_count": 232,
   "metadata": {},
   "outputs": [
    {
     "name": "stdout",
     "output_type": "stream",
     "text": [
      "length n is 6\n",
      "i= 0 arr[i]= 1 maxend = 1 currentd= 0\n",
      "       jump= 1 currend = 1\n",
      "i= 1 arr[i]= 4 maxend = 5 currentd= 1\n",
      "              exiting, maxend>=n-1,maxend=5\n"
     ]
    },
    {
     "data": {
      "text/plain": [
       "2"
      ]
     },
     "execution_count": 232,
     "metadata": {},
     "output_type": "execute_result"
    }
   ],
   "source": [
    "arr= [1, 4, 3, 2, 6, 7]\n",
    "minJumps(arr,len(arr))"
   ]
  },
  {
   "cell_type": "code",
   "execution_count": null,
   "metadata": {},
   "outputs": [],
   "source": []
  },
  {
   "cell_type": "code",
   "execution_count": null,
   "metadata": {},
   "outputs": [],
   "source": []
  }
 ],
 "metadata": {
  "kernelspec": {
   "display_name": "Python 3.10.5 64-bit (windows store)",
   "language": "python",
   "name": "python3"
  },
  "language_info": {
   "codemirror_mode": {
    "name": "ipython",
    "version": 3
   },
   "file_extension": ".py",
   "mimetype": "text/x-python",
   "name": "python",
   "nbconvert_exporter": "python",
   "pygments_lexer": "ipython3",
   "version": "3.10.5"
  },
  "orig_nbformat": 4,
  "vscode": {
   "interpreter": {
    "hash": "8f2da782a53ffb8d5a9c0ba3b43a502e539ac29bc11dcc391bea25e978b4bb7a"
   }
  }
 },
 "nbformat": 4,
 "nbformat_minor": 2
}
