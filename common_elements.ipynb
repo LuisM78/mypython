{
 "cells": [
  {
   "cell_type": "code",
   "execution_count": 1,
   "metadata": {},
   "outputs": [],
   "source": [
    "\n",
    "class Solution:\n",
    "    def commonElements (self, A, B, C, n1, n2, n3):\n",
    "        # your code here\n",
    "        #result = sorted( list(set(A) & set(B) & set(C)))\n",
    "        #return result\n",
    "        # your code here\n",
    "        i = 0\n",
    "        j  = 0\n",
    "        k = 0\n",
    "        ans = set()\n",
    "        while(i < n1 and j < n2 and k <n3):\n",
    "            if A[i] == B[j] == C[k]:\n",
    "                ans.add(A[i])\n",
    "                i+=1\n",
    "                j+=1\n",
    "                k+=1\n",
    "            else:\n",
    "                mini = min(A[i],B[j],C[k])\n",
    "                if mini == A[i]:\n",
    "                    i+=1\n",
    "                elif mini == B[j]:\n",
    "                    j+=1\n",
    "                else:\n",
    "                    k+=1\n",
    "        ans =list(ans)\n",
    "        ans.sort()\n",
    "        return ans"
   ]
  },
  {
   "cell_type": "code",
   "execution_count": 6,
   "metadata": {},
   "outputs": [
    {
     "data": {
      "text/plain": [
       "[20, 80]"
      ]
     },
     "execution_count": 6,
     "metadata": {},
     "output_type": "execute_result"
    }
   ],
   "source": [
    "A = [1, 5, 10, 20, 40, 80]\n",
    "\n",
    "B = [6, 7, 20, 80, 100]\n",
    "\n",
    "C = [3, 4, 15, 20, 30, 70, 80, 120]\n",
    "\n",
    "\n",
    "Res= Solution()\n",
    "Res.commonElements(A, B, C, 6, 5, 8)\n"
   ]
  },
  {
   "cell_type": "markdown",
   "metadata": {},
   "source": [
    "Input:\n",
    "\n",
    "n1 = 6; A = {1, 5, 10, 20, 40, 80}\n",
    "\n",
    "n2 = 5; B = {6, 7, 20, 80, 100}\n",
    "\n",
    "n3 = 8; C = {3, 4, 15, 20, 30, 70, 80, 120}\n",
    "\n",
    "Output: 20 80\n",
    "\n",
    "Explanation: 20 and 80 are the only\n",
    "\n",
    "common elements in A, B and C."
   ]
  },
  {
   "cell_type": "markdown",
   "metadata": {},
   "source": []
  },
  {
   "cell_type": "code",
   "execution_count": 21,
   "metadata": {},
   "outputs": [],
   "source": [
    "def find_common(A,B,C):\n",
    "    ans = set()\n",
    "    i = 0\n",
    "    j = 0\n",
    "    k = 0\n",
    "    while i < len(A) and j < len(B) and k < len(C):\n",
    "        if A[i] == B[j] == C[k]:\n",
    "            ans.add(A[i])\n",
    "        mini = min(A[i],B[j],C[k])\n",
    "        if mini == A[i]:\n",
    "            i += 1\n",
    "        elif mini == B[j]:\n",
    "            j += 1\n",
    "        else:\n",
    "            k += 1\n",
    "    if len(ans) == 0:\n",
    "        return [-1]\n",
    "    else:\n",
    "        print(ans)\n",
    "        ans2 = list(ans)\n",
    "        ans2.sort()\n",
    "        return ans2\n"
   ]
  },
  {
   "cell_type": "code",
   "execution_count": 22,
   "metadata": {},
   "outputs": [
    {
     "name": "stdout",
     "output_type": "stream",
     "text": [
      "{80, 20}\n",
      "[20, 80]\n"
     ]
    }
   ],
   "source": [
    "A = [1, 5, 10, 20, 40, 80]\n",
    "\n",
    "B = [6, 7, 20, 80, 100]\n",
    "\n",
    "C = [3, 4, 15, 20, 30, 70, 80, 120]\n",
    "\n",
    "\n",
    "\n",
    "print(find_common(A, B, C))"
   ]
  },
  {
   "cell_type": "code",
   "execution_count": null,
   "metadata": {},
   "outputs": [],
   "source": []
  }
 ],
 "metadata": {
  "interpreter": {
   "hash": "ad2bdc8ecc057115af97d19610ffacc2b4e99fae6737bb82f5d7fb13d2f2c186"
  },
  "kernelspec": {
   "display_name": "Python 3.9.7 ('base')",
   "language": "python",
   "name": "python3"
  },
  "language_info": {
   "codemirror_mode": {
    "name": "ipython",
    "version": 3
   },
   "file_extension": ".py",
   "mimetype": "text/x-python",
   "name": "python",
   "nbconvert_exporter": "python",
   "pygments_lexer": "ipython3",
   "version": "3.9.7"
  },
  "orig_nbformat": 4
 },
 "nbformat": 4,
 "nbformat_minor": 2
}
