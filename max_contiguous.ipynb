{
 "cells": [
  {
   "cell_type": "markdown",
   "metadata": {},
   "source": [
    "Given an array Arr[] of N integers. Find the contiguous sub-array(containing at least one number) which has the maximum sum and return its sum.\n",
    "\n",
    "Input:\n",
    "N = 5\n",
    "\n",
    "Arr[] = {1,2,3,-2,5}\n",
    "\n",
    "Output:\n",
    "9\n",
    "\n",
    "Explanation:\n",
    "\n",
    "Max subarray sum is 9\n",
    "\n",
    "of elements (1, 2, 3, -2, 5) which \n",
    "\n",
    "is a contiguous subarray."
   ]
  },
  {
   "cell_type": "code",
   "execution_count": 77,
   "metadata": {},
   "outputs": [],
   "source": [
    "def maximum_contiguous(arr):\n",
    "    max_suma = suma = arr[0]\n",
    "    #d= {}\n",
    "    #d[str(1)] = suma\n",
    "    for i in arr[1:]:\n",
    "        suma     = max(i,suma+i)\n",
    "        \n",
    "        max_suma = max(suma,max_suma)\n",
    "    #print(d)\n",
    "    return max_suma\n",
    "\n",
    "\n"
   ]
  },
  {
   "cell_type": "code",
   "execution_count": 78,
   "metadata": {},
   "outputs": [
    {
     "data": {
      "text/plain": [
       "9"
      ]
     },
     "execution_count": 78,
     "metadata": {},
     "output_type": "execute_result"
    }
   ],
   "source": [
    "arr = [1,2,3,-2,5]\n",
    "maximum_contiguous(arr)"
   ]
  },
  {
   "cell_type": "code",
   "execution_count": 80,
   "metadata": {},
   "outputs": [
    {
     "data": {
      "text/plain": [
       "-1"
      ]
     },
     "execution_count": 80,
     "metadata": {},
     "output_type": "execute_result"
    }
   ],
   "source": [
    "arr = [-1,-2,-3,-4]\n",
    "maximum_contiguous(arr)"
   ]
  },
  {
   "cell_type": "code",
   "execution_count": 66,
   "metadata": {},
   "outputs": [],
   "source": [
    "def maximum_contiguous2(arr):\n",
    "    max_suma = suma = arr[0]\n",
    "    d= {}\n",
    "    \n",
    "    start = 0\n",
    "    d[str(start)] = suma\n",
    "    for i in range(1,len(arr)):\n",
    "        if arr[i] > suma+arr[i]:\n",
    "            start = i\n",
    "        suma     = max(arr[i],suma+arr[i])\n",
    "        \n",
    "        max_suma = max(suma,max_suma)\n",
    "\n",
    "        d[str(start)+\"_\"+str(i+1)]= max_suma\n",
    "        \n",
    "    print(d)\n",
    "    print(max(d,key=d.get))\n",
    "    return max_suma"
   ]
  },
  {
   "cell_type": "code",
   "execution_count": 67,
   "metadata": {},
   "outputs": [
    {
     "name": "stdout",
     "output_type": "stream",
     "text": [
      "{'0': -1, '1_2': -1, '2_3': -1, '3_4': -1}\n",
      "0\n"
     ]
    },
    {
     "data": {
      "text/plain": [
       "-1"
      ]
     },
     "execution_count": 67,
     "metadata": {},
     "output_type": "execute_result"
    }
   ],
   "source": [
    "arr = [-1,-2,-3,-4]\n",
    "maximum_contiguous2(arr)"
   ]
  },
  {
   "cell_type": "code",
   "execution_count": 73,
   "metadata": {},
   "outputs": [
    {
     "name": "stdout",
     "output_type": "stream",
     "text": [
      "{'0': -1, '1_2': -1, '2_3': -1, '3_4': -1}\n",
      "0\n"
     ]
    },
    {
     "data": {
      "text/plain": [
       "-1"
      ]
     },
     "execution_count": 73,
     "metadata": {},
     "output_type": "execute_result"
    }
   ],
   "source": [
    "#arr = [-10,1,2,3,-2,0,0,-25,5,5,15,20]\n",
    "arr = [-1,-2,-3,-4]\n",
    "maximum_contiguous2(arr)"
   ]
  },
  {
   "cell_type": "code",
   "execution_count": 71,
   "metadata": {},
   "outputs": [
    {
     "data": {
      "text/plain": [
       "25"
      ]
     },
     "execution_count": 71,
     "metadata": {},
     "output_type": "execute_result"
    }
   ],
   "source": [
    "sum(arr[8:11])"
   ]
  },
  {
   "cell_type": "code",
   "execution_count": null,
   "metadata": {},
   "outputs": [],
   "source": []
  },
  {
   "cell_type": "code",
   "execution_count": null,
   "metadata": {},
   "outputs": [],
   "source": []
  }
 ],
 "metadata": {
  "interpreter": {
   "hash": "8f2da782a53ffb8d5a9c0ba3b43a502e539ac29bc11dcc391bea25e978b4bb7a"
  },
  "kernelspec": {
   "display_name": "Python 3.10.5 64-bit (windows store)",
   "language": "python",
   "name": "python3"
  },
  "language_info": {
   "codemirror_mode": {
    "name": "ipython",
    "version": 3
   },
   "file_extension": ".py",
   "mimetype": "text/x-python",
   "name": "python",
   "nbconvert_exporter": "python",
   "pygments_lexer": "ipython3",
   "version": "3.10.5"
  },
  "orig_nbformat": 4
 },
 "nbformat": 4,
 "nbformat_minor": 2
}
