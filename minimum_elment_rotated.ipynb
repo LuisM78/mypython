{
 "cells": [
  {
   "cell_type": "markdown",
   "metadata": {},
   "source": [
    "A sorted array A[ ] with distinct elements is rotated at some unknown point, the task is to find the minimum element in it.\n",
    "\n",
    "Example 1\n",
    "\n",
    "Input:\n",
    "N = 5\n",
    "arr[] = {4 ,5 ,1 ,2 ,3}\n",
    "Output: 1\n",
    "Explanation: 1 is the minimum element inthe array.\n",
    "Example 2\n",
    "\n",
    "Input:\n",
    "N = 7\n",
    "arr[] = {10, 20, 30, 40, 50, 5, 7}\n",
    "Output: 5\n",
    "Explanation: Here 5 is the minimum element.\n",
    " \n",
    "\n",
    "Your Task:\n",
    "Complete the function findMin() which takes an array arr[] and n, size of the array as input parameters, and returns the minimum element of the array.\n",
    "\n",
    "Expected Time Complexity: O(log N).\n",
    "Expected Auxiliary Space: O(log N).\n",
    "\n",
    "Constraints:\n",
    "1 ≤ N ≤ 100000\n",
    "1 ≤ A[i] ≤ 1000000"
   ]
  },
  {
   "cell_type": "code",
   "execution_count": 5,
   "metadata": {},
   "outputs": [],
   "source": [
    "def findMin(arr):\n",
    "    #complete the function here\n",
    "    i = 0\n",
    "    done = True\n",
    "    n = len(arr)\n",
    "    while i < n:\n",
    "        if arr[i]< arr[i-1]:\n",
    "            return arr[i]\n",
    "        i += 1\n"
   ]
  },
  {
   "cell_type": "code",
   "execution_count": 6,
   "metadata": {},
   "outputs": [
    {
     "data": {
      "text/plain": [
       "5"
      ]
     },
     "execution_count": 6,
     "metadata": {},
     "output_type": "execute_result"
    }
   ],
   "source": [
    "arr= [10, 20, 30, 40, 50, 5, 7]\n",
    "findMin(arr)"
   ]
  },
  {
   "cell_type": "code",
   "execution_count": null,
   "metadata": {},
   "outputs": [],
   "source": []
  },
  {
   "cell_type": "code",
   "execution_count": null,
   "metadata": {},
   "outputs": [],
   "source": []
  }
 ],
 "metadata": {
  "interpreter": {
   "hash": "8f2da782a53ffb8d5a9c0ba3b43a502e539ac29bc11dcc391bea25e978b4bb7a"
  },
  "kernelspec": {
   "display_name": "Python 3.10.5 64-bit (windows store)",
   "language": "python",
   "name": "python3"
  },
  "language_info": {
   "codemirror_mode": {
    "name": "ipython",
    "version": 3
   },
   "file_extension": ".py",
   "mimetype": "text/x-python",
   "name": "python",
   "nbconvert_exporter": "python",
   "pygments_lexer": "ipython3",
   "version": "3.10.5"
  },
  "orig_nbformat": 4
 },
 "nbformat": 4,
 "nbformat_minor": 2
}
