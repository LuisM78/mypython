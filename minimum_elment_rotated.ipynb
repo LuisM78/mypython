{
 "cells": [
  {
   "cell_type": "markdown",
   "metadata": {},
   "source": [
    "A sorted array A[ ] with distinct elements is rotated at some unknown point, the task is to find the minimum element in it.\n",
    "\n",
    "Example 1\n",
    "\n",
    "Input:\n",
    "N = 5\n",
    "arr[] = {4 ,5 ,1 ,2 ,3}\n",
    "Output: 1\n",
    "Explanation: 1 is the minimum element inthe array.\n",
    "Example 2\n",
    "\n",
    "Input:\n",
    "N = 7\n",
    "arr[] = {10, 20, 30, 40, 50, 5, 7}\n",
    "Output: 5\n",
    "Explanation: Here 5 is the minimum element.\n",
    " \n",
    "\n",
    "Your Task:\n",
    "Complete the function findMin() which takes an array arr[] and n, size of the array as input parameters, and returns the minimum element of the array.\n",
    "\n",
    "Expected Time Complexity: O(log N).\n",
    "Expected Auxiliary Space: O(log N).\n",
    "\n",
    "Constraints:\n",
    "1 ≤ N ≤ 100000\n",
    "1 ≤ A[i] ≤ 1000000"
   ]
  },
  {
   "cell_type": "code",
   "execution_count": 5,
   "metadata": {},
   "outputs": [],
   "source": [
    "def findMin(arr):\n",
    "    #complete the function here\n",
    "    i = 0\n",
    "    done = True\n",
    "    n = len(arr)\n",
    "    while i < n:\n",
    "        if arr[i]< arr[i-1]:\n",
    "            return arr[i]\n",
    "        i += 1\n"
   ]
  },
  {
   "cell_type": "code",
   "execution_count": 6,
   "metadata": {},
   "outputs": [
    {
     "data": {
      "text/plain": [
       "5"
      ]
     },
     "execution_count": 6,
     "metadata": {},
     "output_type": "execute_result"
    }
   ],
   "source": [
    "arr= [10, 20, 30, 40, 50, 5, 7]\n",
    "findMin(arr)"
   ]
  },
  {
   "cell_type": "code",
   "execution_count": 17,
   "metadata": {},
   "outputs": [],
   "source": [
    "arr = [8,3,1,2]"
   ]
  },
  {
   "cell_type": "code",
   "execution_count": 18,
   "metadata": {},
   "outputs": [
    {
     "data": {
      "text/plain": [
       "[2, 8, 3, 1]"
      ]
     },
     "execution_count": 18,
     "metadata": {},
     "output_type": "execute_result"
    }
   ],
   "source": [
    "arr.insert(0,arr[-1])\n",
    "arr.pop()\n",
    "arr"
   ]
  },
  {
   "cell_type": "code",
   "execution_count": 19,
   "metadata": {},
   "outputs": [
    {
     "data": {
      "text/plain": [
       "[1, 2, 8, 3]"
      ]
     },
     "execution_count": 19,
     "metadata": {},
     "output_type": "execute_result"
    }
   ],
   "source": [
    "arr.insert(0,arr[-1])\n",
    "arr.pop()\n",
    "arr"
   ]
  },
  {
   "cell_type": "code",
   "execution_count": 25,
   "metadata": {},
   "outputs": [
    {
     "name": "stdout",
     "output_type": "stream",
     "text": [
      "[3, 1, 2, 8]\n",
      "      3 0\n",
      "      1 1\n",
      "      2 2\n",
      "      8 3\n",
      "[8, 3, 1, 2]\n",
      "      8 0\n",
      "      3 1\n",
      "      1 2\n",
      "      2 3\n",
      "[2, 8, 3, 1]\n",
      "      2 0\n",
      "      8 1\n",
      "      3 2\n",
      "      1 3\n",
      "[1, 2, 8, 3]\n",
      "      1 0\n",
      "      2 1\n",
      "      8 2\n",
      "      3 3\n"
     ]
    },
    {
     "data": {
      "text/plain": [
       "29"
      ]
     },
     "execution_count": 25,
     "metadata": {},
     "output_type": "execute_result"
    }
   ],
   "source": [
    "i = 0\n",
    "n = len(arr)\n",
    "suma = 0\n",
    "max_suma = 0\n",
    "while i < n:\n",
    "    arr.insert(0,arr[-1])\n",
    "    arr.pop()\n",
    "    print(arr)\n",
    "    for j in range(len(arr)):\n",
    "        print(\"     \",arr[j],j)\n",
    "        suma += j*arr[j]\n",
    "    max_suma  = max(max_suma,suma)\n",
    "    suma = 0\n",
    "    i+= 1\n",
    "max_suma"
   ]
  },
  {
   "cell_type": "code",
   "execution_count": 24,
   "metadata": {},
   "outputs": [
    {
     "data": {
      "text/plain": [
       "[1, 2, 8, 3]"
      ]
     },
     "execution_count": 24,
     "metadata": {},
     "output_type": "execute_result"
    }
   ],
   "source": [
    "arr"
   ]
  },
  {
   "cell_type": "code",
   "execution_count": 26,
   "metadata": {},
   "outputs": [
    {
     "name": "stdout",
     "output_type": "stream",
     "text": [
      "[3, 1, 2, 8]\n",
      "      1 1\n",
      "      2 2\n",
      "      8 3\n",
      "[8, 3, 1, 2]\n",
      "      3 1\n",
      "      1 2\n",
      "      2 3\n",
      "[2, 8, 3, 1]\n",
      "      8 1\n",
      "      3 2\n",
      "      1 3\n",
      "[1, 2, 8, 3]\n",
      "      2 1\n",
      "      8 2\n",
      "      3 3\n"
     ]
    },
    {
     "data": {
      "text/plain": [
       "29"
      ]
     },
     "execution_count": 26,
     "metadata": {},
     "output_type": "execute_result"
    }
   ],
   "source": [
    "i = 0\n",
    "n = len(arr)\n",
    "suma = 0\n",
    "max_suma = 0\n",
    "while i < n:\n",
    "    arr.insert(0,arr[-1])\n",
    "    arr.pop()\n",
    "    print(arr)\n",
    "    \n",
    "    for j in range(1,len(arr)):\n",
    "        print(\"     \",arr[j],j)\n",
    "        suma += j*arr[j]\n",
    "    max_suma  = max(max_suma,suma)\n",
    "    suma = 0\n",
    "    i+= 1\n",
    "max_suma"
   ]
  },
  {
   "cell_type": "code",
   "execution_count": 53,
   "metadata": {},
   "outputs": [],
   "source": [
    "def rotated_sum(arr):\n",
    "    n = len(arr)\n",
    "    curmax = 0\n",
    "    arrsum = 0\n",
    "    for i in range(n) :\n",
    "        curmax += i*arr[i]\n",
    "        arrsum += arr[i]\n",
    "    maxvalue = curmax\n",
    "    print('first Max',maxvalue)\n",
    "    print('arrsum',arrsum)\n",
    "    for j in range(n) :\n",
    "        curmax = curmax - arrsum + (n*arr[j])\n",
    "        print(curmax, n,arr[j], n*arr[j],arrsum)\n",
    "        if curmax > maxvalue :\n",
    "            maxvalue = curmax\n",
    "            print('maxvalue',maxvalue)\n",
    "    return maxvalue"
   ]
  },
  {
   "cell_type": "code",
   "execution_count": 54,
   "metadata": {},
   "outputs": [
    {
     "name": "stdout",
     "output_type": "stream",
     "text": [
      "[0, 1, 2, 3]\n",
      "first Max 14\n",
      "arrsum 6\n",
      "8 4 0 0 6\n",
      "6 4 1 4 6\n",
      "8 4 2 8 6\n",
      "14 4 3 12 6\n"
     ]
    },
    {
     "data": {
      "text/plain": [
       "14"
      ]
     },
     "execution_count": 54,
     "metadata": {},
     "output_type": "execute_result"
    },
    {
     "ename": "",
     "evalue": "",
     "output_type": "error",
     "traceback": [
      "\u001b[1;31mThe Kernel crashed while executing code in the the current cell or a previous cell. Please review the code in the cell(s) to identify a possible cause of the failure. Click <a href='https://aka.ms/vscodeJupyterKernelCrash'>here</a> for more info. View Jupyter <a href='command:jupyter.viewOutput'>log</a> for further details."
     ]
    }
   ],
   "source": [
    "arr=[0,1,2,3]\n",
    "print(arr)\n",
    "rotated_sum(arr)"
   ]
  },
  {
   "cell_type": "code",
   "execution_count": null,
   "metadata": {},
   "outputs": [],
   "source": []
  }
 ],
 "metadata": {
  "interpreter": {
   "hash": "8f2da782a53ffb8d5a9c0ba3b43a502e539ac29bc11dcc391bea25e978b4bb7a"
  },
  "kernelspec": {
   "display_name": "Python 3.10.5 64-bit (windows store)",
   "language": "python",
   "name": "python3"
  },
  "language_info": {
   "codemirror_mode": {
    "name": "ipython",
    "version": 3
   },
   "file_extension": ".py",
   "mimetype": "text/x-python",
   "name": "python",
   "nbconvert_exporter": "python",
   "pygments_lexer": "ipython3",
   "version": "3.10.5"
  },
  "orig_nbformat": 4
 },
 "nbformat": 4,
 "nbformat_minor": 2
}
