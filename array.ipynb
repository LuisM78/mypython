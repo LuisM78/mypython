{
 "cells": [
  {
   "cell_type": "code",
   "execution_count": 1,
   "metadata": {},
   "outputs": [
    {
     "name": "stdout",
     "output_type": "stream",
     "text": [
      "All Non-empty Subarrays\n",
      "1 \n",
      "1 2 \n",
      "1 2 3 \n",
      "1 2 3 4 \n",
      "2 \n",
      "2 3 \n",
      "2 3 4 \n",
      "3 \n",
      "3 4 \n",
      "4 \n"
     ]
    }
   ],
   "source": [
    "def subArray(arr, n):\n",
    " \n",
    "    # Pick starting point\n",
    "    for i in range(0,n):\n",
    " \n",
    "        # Pick ending point\n",
    "        for j in range(i,n):\n",
    " \n",
    "            # Print subarray between\n",
    "            # current starting\n",
    "            # and ending points\n",
    "            for k in range(i,j+1):\n",
    "                print (arr[k],end=\" \")\n",
    "            print(arr[i])\n",
    " \n",
    "            print (\"\\n\",end=\"\")\n",
    " \n",
    "             \n",
    "# Driver program\n",
    "arr = [1, 2, 3, 4]\n",
    "n = len(arr)\n",
    "print (\"All Non-empty Subarrays\")\n",
    " \n",
    "subArray(arr, n);\n",
    " \n",
    "#"
   ]
  },
  {
   "cell_type": "code",
   "execution_count": 2,
   "metadata": {},
   "outputs": [
    {
     "name": "stdout",
     "output_type": "stream",
     "text": [
      "All Non-empty Subarrays\n",
      "test \n"
     ]
    }
   ],
   "source": [
    "arr = [\"test\"]\n",
    "n = len(arr)\n",
    "print (\"All Non-empty Subarrays\")\n",
    " \n",
    "subArray(arr, n);\n",
    " "
   ]
  },
  {
   "cell_type": "code",
   "execution_count": 4,
   "metadata": {},
   "outputs": [
    {
     "name": "stdout",
     "output_type": "stream",
     "text": [
      "The original string is : Test\n",
      "All substrings of string are : ['T', 'Te', 'Tes', 'Test', 'e', 'es', 'est', 's', 'st', 't']\n"
     ]
    }
   ],
   "source": [
    "test_str = \"Test\"\n",
    "  \n",
    "# printing original string \n",
    "print(\"The original string is : \" + str(test_str))\n",
    "  \n",
    "# Get all substrings of string\n",
    "# Using list comprehension + string slicing\n",
    "res = [test_str[i: j] for i in range(len(test_str))\n",
    "          for j in range(i + 1, len(test_str) + 1)]\n",
    "  \n",
    "# printing result \n",
    "print(\"All substrings of string are : \" + str(res))"
   ]
  },
  {
   "cell_type": "code",
   "execution_count": 20,
   "metadata": {},
   "outputs": [],
   "source": [
    "def string_slicing(s):\n",
    "    res = []\n",
    "    for i in range(len(s)):\n",
    "        for j in range(i+1,len(s)+1):\n",
    "            res.append(s[i:j])\n",
    "    #print(res)\n",
    "    return(res)"
   ]
  },
  {
   "cell_type": "code",
   "execution_count": 26,
   "metadata": {},
   "outputs": [],
   "source": [
    "def string_slicing2(test_str):\n",
    "    return [test_str[i: j] for i in range(len(test_str)) for j in range(i + 1, len(test_str) + 1)]"
   ]
  },
  {
   "cell_type": "code",
   "execution_count": null,
   "metadata": {},
   "outputs": [],
   "source": []
  },
  {
   "cell_type": "code",
   "execution_count": 21,
   "metadata": {},
   "outputs": [
    {
     "data": {
      "text/plain": [
       "['t', 'te', 'tes', 'test', 'e', 'es', 'est', 's', 'st', 't']"
      ]
     },
     "execution_count": 21,
     "metadata": {},
     "output_type": "execute_result"
    }
   ],
   "source": [
    "string_slicing('test')"
   ]
  },
  {
   "cell_type": "code",
   "execution_count": 22,
   "metadata": {},
   "outputs": [
    {
     "data": {
      "text/plain": [
       "{'e', 'es', 'est', 's', 'st', 't', 'te', 'tes', 'test'}"
      ]
     },
     "execution_count": 22,
     "metadata": {},
     "output_type": "execute_result"
    }
   ],
   "source": [
    "set(string_slicing('test'))"
   ]
  },
  {
   "cell_type": "code",
   "execution_count": null,
   "metadata": {},
   "outputs": [],
   "source": []
  },
  {
   "cell_type": "code",
   "execution_count": null,
   "metadata": {},
   "outputs": [],
   "source": []
  },
  {
   "cell_type": "code",
   "execution_count": 23,
   "metadata": {},
   "outputs": [
    {
     "name": "stdout",
     "output_type": "stream",
     "text": [
      "137 µs ± 12 µs per loop (mean ± std. dev. of 4 runs, 10,000 loops each)\n"
     ]
    }
   ],
   "source": [
    "def test(n):\n",
    "\n",
    "    return sum(range(n))\n",
    "\n",
    "n = 10000\n",
    "\n",
    "%timeit -r 4 -n 10000 test(n)"
   ]
  },
  {
   "cell_type": "code",
   "execution_count": 31,
   "metadata": {},
   "outputs": [
    {
     "name": "stdout",
     "output_type": "stream",
     "text": [
      "20.7 µs ± 762 ns per loop (mean ± std. dev. of 4 runs, 10,000 loops each)\n"
     ]
    }
   ],
   "source": [
    "%timeit -r 4 -n 10000 string_slicing('abcdefghhdfklajdfl')"
   ]
  },
  {
   "cell_type": "code",
   "execution_count": 32,
   "metadata": {},
   "outputs": [
    {
     "name": "stdout",
     "output_type": "stream",
     "text": [
      "16.8 µs ± 1.05 µs per loop (mean ± std. dev. of 4 runs, 10,000 loops each)\n"
     ]
    }
   ],
   "source": [
    "%timeit -r 4 -n 10000 string_slicing2('abcdefghhdfklajdfl')"
   ]
  },
  {
   "cell_type": "code",
   "execution_count": null,
   "metadata": {},
   "outputs": [],
   "source": []
  }
 ],
 "metadata": {
  "kernelspec": {
   "display_name": "Python 3.10.5 64-bit (windows store)",
   "language": "python",
   "name": "python3"
  },
  "language_info": {
   "codemirror_mode": {
    "name": "ipython",
    "version": 3
   },
   "file_extension": ".py",
   "mimetype": "text/x-python",
   "name": "python",
   "nbconvert_exporter": "python",
   "pygments_lexer": "ipython3",
   "version": "3.10.5"
  },
  "orig_nbformat": 4,
  "vscode": {
   "interpreter": {
    "hash": "8f2da782a53ffb8d5a9c0ba3b43a502e539ac29bc11dcc391bea25e978b4bb7a"
   }
  }
 },
 "nbformat": 4,
 "nbformat_minor": 2
}
