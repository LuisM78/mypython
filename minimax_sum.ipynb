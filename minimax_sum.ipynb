{
 "cells": [
  {
   "cell_type": "markdown",
   "metadata": {},
   "source": [
    "Given five positive integers, find the minimum and maximum values that can be calculated by summing exactly four of the five integers. Then print the respective minimum and maximum values as a single line of two space-separated long integers.\n",
    "\n",
    "Example\n",
    "arr = [1,3,5,7,9]\n",
    "The minimum sum is 1+3+5+7=16 and the maximum sum is 3+5+7+9=24.\n",
    " The function prints\n",
    "\n",
    "16 24\n",
    "Function Description\n",
    "\n",
    "Complete the miniMaxSum function in the editor below.\n",
    "\n",
    "miniMaxSum has the following parameter(s):\n",
    "\n",
    "arr: an array of  integers\n",
    "Print\n",
    "\n",
    "Print two space-separated integers on one line: the minimum sum and the maximum sum of  of  elements.\n",
    "\n",
    "Input Format\n",
    "\n",
    "A single line of five space-separated integers.\n",
    "\n",
    "Constraints\n",
    "\n",
    "\n",
    "Sample Input\n",
    "\n",
    "1 2 3 4 5\n",
    "\n",
    "Output\n",
    "\n",
    "10 14"
   ]
  },
  {
   "cell_type": "code",
   "execution_count": null,
   "metadata": {},
   "outputs": [],
   "source": []
  },
  {
   "cell_type": "code",
   "execution_count": 2,
   "metadata": {},
   "outputs": [],
   "source": [
    "\n",
    "import math\n",
    "import os\n",
    "import random\n",
    "import re\n",
    "import sys\n",
    "\n",
    "#\n",
    "# Complete the 'miniMaxSum' function below.\n",
    "#\n",
    "# The function accepts INTEGER_ARRAY arr as parameter.\n",
    "#\n",
    "\n",
    "def miniMaxSum(arr):\n",
    "    # Write your code here\n",
    "    minsum = sum(arr[:-1])\n",
    "    maxsum = 0\n",
    "    for i in range(len(arr)):\n",
    "        \n",
    "        newlist = arr[:i]+arr[i+1:]\n",
    "        \n",
    "        summa = sum(newlist)\n",
    "        \n",
    "        if summa> maxsum:\n",
    "            maxsum = summa\n",
    "        if summa < minsum:\n",
    "            minsum = summa\n",
    "    print(minsum,maxsum)\n",
    "        \n",
    "\n"
   ]
  },
  {
   "cell_type": "code",
   "execution_count": 3,
   "metadata": {},
   "outputs": [
    {
     "name": "stdout",
     "output_type": "stream",
     "text": [
      "16 24\n"
     ]
    }
   ],
   "source": [
    "arr = [1,3,5,7,9]\n",
    "miniMaxSum(arr )"
   ]
  },
  {
   "cell_type": "code",
   "execution_count": 4,
   "metadata": {},
   "outputs": [
    {
     "name": "stdout",
     "output_type": "stream",
     "text": [
      "10 14\n"
     ]
    }
   ],
   "source": [
    "arr= [1, 2, 3, 4, 5]\n",
    "miniMaxSum(arr )"
   ]
  },
  {
   "cell_type": "markdown",
   "metadata": {},
   "source": []
  }
 ],
 "metadata": {
  "interpreter": {
   "hash": "8f2da782a53ffb8d5a9c0ba3b43a502e539ac29bc11dcc391bea25e978b4bb7a"
  },
  "kernelspec": {
   "display_name": "Python 3.10.5 64-bit (windows store)",
   "language": "python",
   "name": "python3"
  },
  "language_info": {
   "codemirror_mode": {
    "name": "ipython",
    "version": 3
   },
   "file_extension": ".py",
   "mimetype": "text/x-python",
   "name": "python",
   "nbconvert_exporter": "python",
   "pygments_lexer": "ipython3",
   "version": "3.10.5"
  },
  "orig_nbformat": 4
 },
 "nbformat": 4,
 "nbformat_minor": 2
}
