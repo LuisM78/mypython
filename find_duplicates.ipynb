{
 "cells": [
  {
   "cell_type": "code",
   "execution_count": 4,
   "metadata": {},
   "outputs": [],
   "source": [
    "def duplicates(arr): \n",
    "    # code here\n",
    "    mydict = {}\n",
    "    for i in arr:\n",
    "        if i in mydict:\n",
    "            mydict[i] += 1\n",
    "        else:\n",
    "            mydict[i] = 1\n",
    "    print(mydict)\n",
    "    result = []\n",
    "    for i,j in mydict.items():\n",
    "        if j>= 2:\n",
    "            result.append(i)\n",
    "    #print(result)\n",
    "    result.sort()\n",
    "    if len(result) == 0:\n",
    "        return -1\n",
    "    else:\n",
    "        return result"
   ]
  },
  {
   "cell_type": "code",
   "execution_count": 7,
   "metadata": {},
   "outputs": [
    {
     "name": "stdout",
     "output_type": "stream",
     "text": [
      "{5: 1, 2: 2, 3: 2, 1: 1}\n",
      "[2, 3]\n"
     ]
    }
   ],
   "source": [
    "arr=[5,2, 3, 1, 2 ,3]\n",
    "print(duplicates(arr))"
   ]
  },
  {
   "cell_type": "code",
   "execution_count": 6,
   "metadata": {},
   "outputs": [
    {
     "name": "stdout",
     "output_type": "stream",
     "text": [
      "{0: 1, 3: 1, 1: 1, 2: 1}\n",
      "-1\n"
     ]
    }
   ],
   "source": [
    "arr= [0,3,1,2]\n",
    "print(duplicates(arr))"
   ]
  },
  {
   "cell_type": "markdown",
   "metadata": {},
   "source": [
    "Input:\n",
    "\n",
    "N = 4\n",
    "a[] = {0,3,1,2}\n",
    "\n",
    "Output: -1\n",
    "\n",
    "Explanation: N=4 and all elements from 0\n",
    "to (N-1 = 3) are present in the given\n",
    "array. Therefore output is -1."
   ]
  },
  {
   "cell_type": "markdown",
   "metadata": {},
   "source": [
    "## Input:\n",
    "\n",
    "N = 5\n",
    "\n",
    "a[] = {2,3,1,2,3}\n",
    "\n",
    "Output: 2 3 \n",
    "\n",
    "Explanation: 2 and 3 occur more than once\n",
    "in the given array."
   ]
  },
  {
   "cell_type": "markdown",
   "metadata": {},
   "source": []
  },
  {
   "cell_type": "code",
   "execution_count": null,
   "metadata": {},
   "outputs": [],
   "source": [
    "arr=[5,2, 3, 1, 2 ,3]\n",
    "print(duplicates(arr))"
   ]
  }
 ],
 "metadata": {
  "interpreter": {
   "hash": "ad2bdc8ecc057115af97d19610ffacc2b4e99fae6737bb82f5d7fb13d2f2c186"
  },
  "kernelspec": {
   "display_name": "Python 3.9.7 ('base')",
   "language": "python",
   "name": "python3"
  },
  "language_info": {
   "codemirror_mode": {
    "name": "ipython",
    "version": 3
   },
   "file_extension": ".py",
   "mimetype": "text/x-python",
   "name": "python",
   "nbconvert_exporter": "python",
   "pygments_lexer": "ipython3",
   "version": "3.9.7"
  },
  "orig_nbformat": 4
 },
 "nbformat": 4,
 "nbformat_minor": 2
}
