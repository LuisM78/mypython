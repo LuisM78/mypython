{
 "cells": [
  {
   "cell_type": "code",
   "execution_count": 6,
   "metadata": {},
   "outputs": [],
   "source": [
    "def First_repeating(arr):\n",
    "    if len(arr) == 0 or len(arr) ==1:\n",
    "        return -1\n",
    "    d = {}\n",
    "    for i in range(len(arr)):\n",
    "        if arr[i] in d:\n",
    "            d[arr[i]] += 1\n",
    "        else:\n",
    "            d[arr[i]]  = 1\n",
    "    for i in range(len(arr)):\n",
    "        if d[arr[i]] > 1:\n",
    "            return i +1\n",
    "    return -1"
   ]
  },
  {
   "cell_type": "markdown",
   "metadata": {},
   "source": [
    "Input:\n",
    "\n",
    "n = 7\n",
    "\n",
    "arr[] = {1, 5, 3, 4, 3, 5, 6}\n",
    "Output: 2\n",
    "\n",
    "Explanation: \n",
    "5 is appearing twice and \n",
    "its first appearence is at index 2 \n",
    "which is less than 3 whose first \n",
    "occuring index is 3."
   ]
  },
  {
   "cell_type": "code",
   "execution_count": null,
   "metadata": {},
   "outputs": [],
   "source": []
  },
  {
   "cell_type": "markdown",
   "metadata": {},
   "source": [
    "arr= [1, 5, 3, 4, 3, 5, 6]"
   ]
  },
  {
   "cell_type": "code",
   "execution_count": 7,
   "metadata": {},
   "outputs": [
    {
     "data": {
      "text/plain": [
       "2"
      ]
     },
     "execution_count": 7,
     "metadata": {},
     "output_type": "execute_result"
    }
   ],
   "source": [
    "arr= [1, 5, 3, 4, 3, 5, 6]\n",
    "First_repeating(arr)"
   ]
  },
  {
   "cell_type": "markdown",
   "metadata": {},
   "source": [
    "Input:\n",
    "\n",
    "n = 4\n",
    "\n",
    "arr[] = {1, 2, 3, 4}\n",
    "\n",
    "Output: -1\n",
    "\n",
    "Explanation: \n",
    "All elements appear only once so \n",
    "answer is -1."
   ]
  },
  {
   "cell_type": "code",
   "execution_count": 8,
   "metadata": {},
   "outputs": [
    {
     "data": {
      "text/plain": [
       "-1"
      ]
     },
     "execution_count": 8,
     "metadata": {},
     "output_type": "execute_result"
    }
   ],
   "source": [
    "arr = [1, 2, 3, 4]\n",
    "First_repeating(arr)\n"
   ]
  },
  {
   "cell_type": "code",
   "execution_count": null,
   "metadata": {},
   "outputs": [],
   "source": []
  }
 ],
 "metadata": {
  "interpreter": {
   "hash": "ad2bdc8ecc057115af97d19610ffacc2b4e99fae6737bb82f5d7fb13d2f2c186"
  },
  "kernelspec": {
   "display_name": "Python 3.9.7 ('base')",
   "language": "python",
   "name": "python3"
  },
  "language_info": {
   "codemirror_mode": {
    "name": "ipython",
    "version": 3
   },
   "file_extension": ".py",
   "mimetype": "text/x-python",
   "name": "python",
   "nbconvert_exporter": "python",
   "pygments_lexer": "ipython3",
   "version": "3.9.7"
  },
  "orig_nbformat": 4
 },
 "nbformat": 4,
 "nbformat_minor": 2
}
