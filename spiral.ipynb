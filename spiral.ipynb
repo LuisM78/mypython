{
 "cells": [
  {
   "cell_type": "code",
   "execution_count": 13,
   "metadata": {},
   "outputs": [],
   "source": [
    "N = (0 ,-1)\n",
    "S = (0 , 1)\n",
    "E = (+1, 0)\n",
    "W = (-1, 0)\n",
    "\n",
    "turnright = {N:E,E:S,S:W,W:N}"
   ]
  },
  {
   "cell_type": "code",
   "execution_count": 20,
   "metadata": {},
   "outputs": [],
   "source": [
    "def Spiral(width,height):\n",
    "    if width < 1 or height<1:\n",
    "        raise ValueError\n",
    "    ct = 0\n",
    "    matrix = [[None]*width for i in range(height)]\n",
    "    print(matrix)\n",
    "    x, y = width//2, height//2\n",
    "    dx,dy = N\n",
    "    while True:\n",
    "        ct += 1\n",
    "        matrix[y][x] = ct\n",
    "        new_dx, new_dy = turnright[(dx,dy)]\n",
    "        new_x, new_y = x+new_dx, y + new_dy\n",
    "        if 0 <= new_x <width and 0<=new_y<height and matrix[new_y][new_x] is None:\n",
    "            x, y = new_x, new_y\n",
    "            dx, dy = new_dx, new_dy\n",
    "        else:\n",
    "            x, y = x+ dx, y+dy\n",
    "            print(x,y)\n",
    "\n",
    "            if not (0<=x<width and 0<=y<height):\n",
    "                return matrix\n",
    "\n",
    "\n",
    "\n"
   ]
  },
  {
   "cell_type": "code",
   "execution_count": 25,
   "metadata": {},
   "outputs": [
    {
     "name": "stdout",
     "output_type": "stream",
     "text": [
      "[[None, None, None], [None, None, None], [None, None, None]]\n",
      "0 2\n",
      "0 0\n",
      "2 0\n",
      "3 0\n"
     ]
    },
    {
     "data": {
      "text/plain": [
       "[[7, 8, 9], [6, 1, 2], [5, 4, 3]]"
      ]
     },
     "execution_count": 25,
     "metadata": {},
     "output_type": "execute_result"
    }
   ],
   "source": [
    "Spiral(3,3)"
   ]
  },
  {
   "cell_type": "code",
   "execution_count": null,
   "metadata": {},
   "outputs": [],
   "source": []
  },
  {
   "cell_type": "code",
   "execution_count": null,
   "metadata": {},
   "outputs": [],
   "source": []
  }
 ],
 "metadata": {
  "kernelspec": {
   "display_name": "Python 3.10.5 64-bit (windows store)",
   "language": "python",
   "name": "python3"
  },
  "language_info": {
   "codemirror_mode": {
    "name": "ipython",
    "version": 3
   },
   "file_extension": ".py",
   "mimetype": "text/x-python",
   "name": "python",
   "nbconvert_exporter": "python",
   "pygments_lexer": "ipython3",
   "version": "3.10.8"
  },
  "orig_nbformat": 4,
  "vscode": {
   "interpreter": {
    "hash": "8f2da782a53ffb8d5a9c0ba3b43a502e539ac29bc11dcc391bea25e978b4bb7a"
   }
  }
 },
 "nbformat": 4,
 "nbformat_minor": 2
}
