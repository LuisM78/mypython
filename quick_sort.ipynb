{
 "cells": [
  {
   "cell_type": "code",
   "execution_count": 77,
   "metadata": {},
   "outputs": [],
   "source": [
    "def quick_sort(arr):\n",
    "    \n",
    "    return quick_sort_helper(arr, 0, len(arr)-1)"
   ]
  },
  {
   "cell_type": "code",
   "execution_count": 78,
   "metadata": {},
   "outputs": [],
   "source": [
    "def quick_sort_helper(arr, first, last):\n",
    "\n",
    "    if first < last:\n",
    "        split_value = partition(arr, first, last)\n",
    "        quick_sort_helper(arr, first, split_value-1)\n",
    "        quick_sort_helper(arr, split_value+1, last)\n",
    "        \n"
   ]
  },
  {
   "cell_type": "code",
   "execution_count": 88,
   "metadata": {},
   "outputs": [],
   "source": [
    "def partition(arr,first,last):\n",
    "    pivot_value = arr[first]\n",
    "    left_marker = first+1\n",
    "    right_marker = last\n",
    "    done = False\n",
    "    while not done:\n",
    "        while left_marker <= right_marker and arr[left_marker] <= pivot_value:\n",
    "            left_marker += 1\n",
    "        while right_marker >= left_marker and arr[right_marker] >= pivot_value:\n",
    "            right_marker -= 1\n",
    "        if right_marker < left_marker:\n",
    "            done = True\n",
    "        else:\n",
    "            temp = arr[left_marker]\n",
    "            arr[left_marker]     = arr[right_marker]\n",
    "            arr[right_marker] = temp\n",
    "\n",
    "    temp = arr[first]\n",
    "    arr[first] = arr[right_marker]\n",
    "    arr[right_marker] = temp\n",
    "    return right_marker"
   ]
  },
  {
   "cell_type": "code",
   "execution_count": null,
   "metadata": {},
   "outputs": [],
   "source": []
  },
  {
   "cell_type": "code",
   "execution_count": 89,
   "metadata": {},
   "outputs": [
    {
     "data": {
      "text/plain": [
       "[-10, -4, 0, 3, 4, 13, 203, 400]"
      ]
     },
     "execution_count": 89,
     "metadata": {},
     "output_type": "execute_result"
    }
   ],
   "source": [
    "arr = [4,3,0,400,-10,203,13,-4]\n",
    "quick_sort(arr)\n",
    "arr\n"
   ]
  },
  {
   "cell_type": "code",
   "execution_count": 90,
   "metadata": {},
   "outputs": [
    {
     "data": {
      "text/plain": [
       "[-10, -4, 0, 3, 4, 13, 203, 400]"
      ]
     },
     "execution_count": 90,
     "metadata": {},
     "output_type": "execute_result"
    }
   ],
   "source": [
    "arr.sort()\n",
    "arr"
   ]
  },
  {
   "cell_type": "code",
   "execution_count": 91,
   "metadata": {},
   "outputs": [
    {
     "data": {
      "text/plain": [
       "[0, 2, 2, 9, 44, 492]"
      ]
     },
     "execution_count": 91,
     "metadata": {},
     "output_type": "execute_result"
    }
   ],
   "source": [
    "arr = [44,9,492,2,0,2]\n",
    "quick_sort(arr)\n",
    "arr"
   ]
  },
  {
   "cell_type": "code",
   "execution_count": 92,
   "metadata": {},
   "outputs": [
    {
     "data": {
      "text/plain": [
       "[0, 2, 2, 9, 44, 492]"
      ]
     },
     "execution_count": 92,
     "metadata": {},
     "output_type": "execute_result"
    }
   ],
   "source": [
    "arr.sort()\n",
    "arr"
   ]
  },
  {
   "cell_type": "code",
   "execution_count": null,
   "metadata": {},
   "outputs": [],
   "source": []
  }
 ],
 "metadata": {
  "interpreter": {
   "hash": "8d9587739e3a3c4d02c325bf089bc25dffaed5def0ee654ef51796d1adc9076c"
  },
  "kernelspec": {
   "display_name": "Python 3.10.1 64-bit",
   "language": "python",
   "name": "python3"
  },
  "language_info": {
   "codemirror_mode": {
    "name": "ipython",
    "version": 3
   },
   "file_extension": ".py",
   "mimetype": "text/x-python",
   "name": "python",
   "nbconvert_exporter": "python",
   "pygments_lexer": "ipython3",
   "version": "3.10.1"
  },
  "orig_nbformat": 4
 },
 "nbformat": 4,
 "nbformat_minor": 2
}
