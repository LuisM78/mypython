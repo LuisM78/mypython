{
 "cells": [
  {
   "cell_type": "code",
   "execution_count": 4,
   "metadata": {},
   "outputs": [],
   "source": [
    "    def getMinDiff( arr,n,  k):\n",
    "        # if n == 1:\n",
    "        #     return 0\n",
    "        # arr.sort()\n",
    "        # diff = arr[-1] - arr[0]\n",
    "        # for i in range(1, n):\n",
    "        #     if arr[i] < k:\n",
    "        #         continue\n",
    "        #     mini = min(arr[0] + k, arr[i] - k)\n",
    "        #     maxi = max(arr[i - 1] + k, arr[-1] - k)\n",
    "        #     diff = min(diff, maxi - mini)\n",
    "        # return diff\n",
    "        arr.sort()\n",
    "        ans = arr[n-1] - arr[0]\n",
    "        \n",
    "        for i in range(1,n):\n",
    "            if(arr[i]-k<0):\n",
    "               continue\n",
    "            tempmin = min(arr[0]+k, arr[i]-k)\n",
    "            tempmax = max(arr[n-1]-k, arr[i-1]+k)\n",
    "            ans = min(ans, tempmax-tempmin)\n",
    "            \n",
    "        return ans"
   ]
  },
  {
   "cell_type": "code",
   "execution_count": 5,
   "metadata": {},
   "outputs": [
    {
     "data": {
      "text/plain": [
       "5"
      ]
     },
     "execution_count": 5,
     "metadata": {},
     "output_type": "execute_result"
    }
   ],
   "source": [
    "Arr = [1, 5, 8, 10]\n",
    "k =2\n",
    "getMinDiff(Arr,len(Arr),2)"
   ]
  },
  {
   "cell_type": "code",
   "execution_count": 7,
   "metadata": {},
   "outputs": [
    {
     "data": {
      "text/plain": [
       "11"
      ]
     },
     "execution_count": 7,
     "metadata": {},
     "output_type": "execute_result"
    }
   ],
   "source": [
    "K = 3,\n",
    "Arr = [3, 9, 12, 16, 20]\n",
    "getMinDiff(Arr,len(Arr),3)"
   ]
  },
  {
   "cell_type": "code",
   "execution_count": null,
   "metadata": {},
   "outputs": [],
   "source": []
  }
 ],
 "metadata": {
  "kernelspec": {
   "display_name": "Python 3.10.5 64-bit (windows store)",
   "language": "python",
   "name": "python3"
  },
  "language_info": {
   "codemirror_mode": {
    "name": "ipython",
    "version": 3
   },
   "file_extension": ".py",
   "mimetype": "text/x-python",
   "name": "python",
   "nbconvert_exporter": "python",
   "pygments_lexer": "ipython3",
   "version": "3.10.5"
  },
  "orig_nbformat": 4,
  "vscode": {
   "interpreter": {
    "hash": "8f2da782a53ffb8d5a9c0ba3b43a502e539ac29bc11dcc391bea25e978b4bb7a"
   }
  }
 },
 "nbformat": 4,
 "nbformat_minor": 2
}
