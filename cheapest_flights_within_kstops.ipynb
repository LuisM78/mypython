{
 "cells": [
  {
   "cell_type": "code",
   "execution_count": 1,
   "metadata": {},
   "outputs": [],
   "source": [
    "class Solution(object):\n",
    "    def findCheapestPrice(self, n, flights, src, dst, k):\n",
    "        \"\"\"\n",
    "        :type n: int\n",
    "        :type flights: List[List[int]]\n",
    "        :type src: int\n",
    "        :type dst: int\n",
    "        :type k: int\n",
    "        :rtype: int\n",
    "        \"\"\"\n",
    "        # Bellman Ford Algo\n",
    "        ### ******\n",
    "        # def findCheapestPrice(self, n: int, flights: List[List[int]], src: int, dst: int, k: int) -> int:\n",
    "        prices = [float('inf')] * n\n",
    "        # set source price to 0 since it costs nothing to start at source\n",
    "        prices[src] = 0\n",
    "        \n",
    "        for i in range(k + 1):\n",
    "            # go through all edges\n",
    "            temp_prices = list(prices)\n",
    "            for source, dest, price in flights:\n",
    "                current_cheapest = temp_prices[dest]\n",
    "                new_price = prices[source] + price\n",
    "                \n",
    "                # update price if it is cheaper\n",
    "                # new price is the cheapest price so far it costs to get to source + price to get to dest from source\n",
    "                if new_price < current_cheapest:\n",
    "                    temp_prices[dest] = new_price\n",
    "            prices = temp_prices\n",
    "        \n",
    "        return prices[dst] if prices[dst] != float('inf') else -1\n",
    "       "
   ]
  },
  {
   "cell_type": "code",
   "execution_count": 2,
   "metadata": {},
   "outputs": [],
   "source": [
    "A = Solution()"
   ]
  },
  {
   "cell_type": "code",
   "execution_count": 3,
   "metadata": {},
   "outputs": [
    {
     "data": {
      "text/plain": [
       "1"
      ]
     },
     "execution_count": 3,
     "metadata": {},
     "output_type": "execute_result"
    }
   ],
   "source": [
    "4\n",
    "[[0,1,100],[1,2,100],[2,0,100],[1,3,600],[2,3,200]]\n",
    "0\n",
    "3\n",
    "1"
   ]
  },
  {
   "cell_type": "code",
   "execution_count": 4,
   "metadata": {},
   "outputs": [
    {
     "data": {
      "text/plain": [
       "700"
      ]
     },
     "execution_count": 4,
     "metadata": {},
     "output_type": "execute_result"
    }
   ],
   "source": [
    "# def findCheapestPrice(self, n, flights, src, dst, k):\n",
    "A.findCheapestPrice(4,[[0,1,100],[1,2,100],[2,0,100],[1,3,600],[2,3,200]],0,3,1)\n"
   ]
  },
  {
   "cell_type": "code",
   "execution_count": 7,
   "metadata": {},
   "outputs": [],
   "source": [
    "assert(A.findCheapestPrice(4,[[0,1,100],[1,2,100],[2,0,100],[1,3,600],[2,3,200]],0,3,1)==700)"
   ]
  },
  {
   "cell_type": "code",
   "execution_count": 20,
   "metadata": {},
   "outputs": [],
   "source": [
    "import heapq"
   ]
  },
  {
   "cell_type": "code",
   "execution_count": 23,
   "metadata": {},
   "outputs": [],
   "source": [
    "# Diskstra Algorithm\n",
    "class Solution(object):\n",
    "    \n",
    "    def findCheapestPrice(self, n, flights, src, dst, k):\n",
    "        \"\"\"\n",
    "        :type n: int\n",
    "        :type flights: List[List[int]]\n",
    "        :type src: int\n",
    "        :type dst: int\n",
    "        :type k: int\n",
    "        :rtype: int\n",
    "        \"\"\"\n",
    "\n",
    "        \n",
    "        #Build the adjacency matrix\n",
    "        adj_matrix = [[0 for i in range(n)] for j in range(n)]\n",
    "        for s, d, w in flights:\n",
    "            adj_matrix[s][d] = w\n",
    "            \n",
    "        # Shortest distances array\n",
    "        distances = [float(\"inf\") for _ in range(n)]\n",
    "        current_stops = [float(\"inf\") for _ in range(n)]\n",
    "        distances[src], current_stops[src] = 0, 0\n",
    "        \n",
    "        # Data is (cost, stops, node)\n",
    "        minHeap = [(0, 0, src)]     \n",
    "        \n",
    "        while minHeap:\n",
    "            \n",
    "            cost, stops, node = heapq.heappop(minHeap)\n",
    "            \n",
    "            # If destination is reached, return the cost to get here\n",
    "            if node == dst:\n",
    "                return cost\n",
    "            \n",
    "            # If there are no more steps left, continue \n",
    "            if stops == k + 1:\n",
    "                continue\n",
    "             \n",
    "            # Examine and relax all neighboring edges if possible \n",
    "            for nei in range(n):\n",
    "                if adj_matrix[node][nei] > 0:\n",
    "                    dU, dV, wUV = cost, distances[nei], adj_matrix[node][nei]\n",
    "                    \n",
    "                    # Better cost?\n",
    "                    if dU + wUV < dV:\n",
    "                        distances[nei] = dU + wUV\n",
    "                        heapq.heappush(minHeap, (dU + wUV, stops + 1, nei))\n",
    "                        current_stops[nei] = stops\n",
    "                       # print('heap before',minHeap,nei,'pushed',(dU + wUV, stops + 1, nei))\n",
    "                    if stops < current_stops[nei]:\n",
    "                        print(dU + wUV < dV)\n",
    "                        #  Better steps?\n",
    "                        # continue\n",
    "                        print('        heap',minHeap,nei)\n",
    "                        heapq.heappush(minHeap, (dU + wUV, stops + 1, nei))\n",
    "                        \n",
    "                       # print('       pushed,', (dU + wUV, stops + 1, nei))\n",
    "                       # print('       resul heap', minHeap)\n",
    "                        \n",
    "        return -1 if distances[dst] == float(\"inf\") else distances[dst]\n",
    "    \n",
    "    "
   ]
  },
  {
   "cell_type": "code",
   "execution_count": 24,
   "metadata": {},
   "outputs": [],
   "source": [
    "A=Solution()\n",
    "assert(A.findCheapestPrice(4,[[0,1,100],[1,2,100],[2,0,100],[1,3,600],[2,3,200]],0,3,1)==700)"
   ]
  },
  {
   "cell_type": "code",
   "execution_count": 2,
   "metadata": {},
   "outputs": [],
   "source": [
    "from typing import List"
   ]
  },
  {
   "cell_type": "code",
   "execution_count": 3,
   "metadata": {},
   "outputs": [],
   "source": [
    "\n",
    "\n",
    "class Solution:\n",
    "    def findCheapestPrice(self, n: int, flights: List[List[int]], src: int, dst: int, k: int) -> int:\n",
    "        if src == dst:\n",
    "            return 0\n",
    "        \n",
    "        INF = sys.maxsize\n",
    "        previous = [INF] * n\n",
    "        current = [INF] * n\n",
    "        previous[src] = 0\n",
    "        \n",
    "        for i in range(1, k + 2):\n",
    "            current[src] = 0\n",
    "            for flight in flights:\n",
    "                previous_flight, current_flight, cost = flight\n",
    "\n",
    "                if previous[previous_flight] < INF:\n",
    "                    current[current_flight] = min(current[current_flight],\n",
    "                                                  previous[previous_flight] + cost)\n",
    "                    \n",
    "            previous = current.copy()\n",
    "            \n",
    "        return -1 if current[dst] == INF else current[dst]"
   ]
  },
  {
   "cell_type": "code",
   "execution_count": 4,
   "metadata": {},
   "outputs": [],
   "source": [
    "A=Solution()\n",
    "assert(A.findCheapestPrice(4,[[0,1,100],[1,2,100],[2,0,100],[1,3,600],[2,3,200]],0,3,1)==700)"
   ]
  },
  {
   "cell_type": "code",
   "execution_count": null,
   "metadata": {},
   "outputs": [],
   "source": []
  }
 ],
 "metadata": {
  "kernelspec": {
   "display_name": "Python 3.9.7 ('base')",
   "language": "python",
   "name": "python3"
  },
  "language_info": {
   "codemirror_mode": {
    "name": "ipython",
    "version": 3
   },
   "file_extension": ".py",
   "mimetype": "text/x-python",
   "name": "python",
   "nbconvert_exporter": "python",
   "pygments_lexer": "ipython3",
   "version": "3.9.7"
  },
  "orig_nbformat": 4,
  "vscode": {
   "interpreter": {
    "hash": "ad2bdc8ecc057115af97d19610ffacc2b4e99fae6737bb82f5d7fb13d2f2c186"
   }
  }
 },
 "nbformat": 4,
 "nbformat_minor": 2
}
