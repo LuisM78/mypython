{
 "cells": [
  {
   "cell_type": "code",
   "execution_count": 2,
   "metadata": {},
   "outputs": [
    {
     "name": "stdout",
     "output_type": "stream",
     "text": [
      "merging [1] 0\n",
      "merging [20] 0\n",
      "merging [1, 20] 0\n",
      "merging [6] 0\n",
      "merging [4] 0\n",
      "merging [4, 6] 1\n",
      "merging [1, 4, 6, 20] 3\n",
      "merging [5] 3\n",
      "merging [7] 3\n",
      "merging [5, 7] 3\n",
      "merging [8] 3\n",
      "merging [0] 3\n",
      "merging [0, 8] 4\n",
      "merging [0, 5, 7, 8] 6\n",
      "merging [0, 1, 4, 5, 6, 7, 8, 20] 14\n"
     ]
    },
    {
     "data": {
      "text/plain": [
       "[14]"
      ]
     },
     "execution_count": 2,
     "metadata": {},
     "output_type": "execute_result"
    }
   ],
   "source": [
    "# Alternative solution to the problem in https://www.geeksforgeeks.org/counting-inversions/\n",
    "\n",
    "ct=[0]\n",
    "def MergeSort(arr):\n",
    "    if len(arr)> 1:\n",
    "        mid = len(arr)//2\n",
    "        left_arr = arr[:mid]\n",
    "        right_arr = arr[mid:]\n",
    "        MergeSort(left_arr)\n",
    "        MergeSort(right_arr)\n",
    "        i = 0\n",
    "        j = 0\n",
    "        k = 0\n",
    "        while i < len(left_arr) and j < len(right_arr):\n",
    "            if left_arr[i]  < right_arr[j]:\n",
    "                arr[k]  = left_arr[i]\n",
    "                i += 1\n",
    "            else:\n",
    "                arr[k] = right_arr[j]\n",
    "                ct[0] += (mid-i)\n",
    "                j += 1\n",
    "            k += 1\n",
    "        while i < len(left_arr):\n",
    "            arr[k] = left_arr[i]\n",
    "            i += 1\n",
    "            k += 1\n",
    "        while j < len(right_arr):\n",
    "            arr[k] = right_arr[j]\n",
    "            j += 1\n",
    "            k += 1\n",
    "    print(\"merging\",arr,ct[0])\n",
    "   \n",
    "arr = [1, 20, 6, 4, 5,7,8,0]\n",
    "ct=[0]\n",
    "MergeSort(arr)\n",
    "arr\n",
    "ct\n"
   ]
  },
  {
   "cell_type": "code",
   "execution_count": null,
   "metadata": {},
   "outputs": [],
   "source": []
  }
 ],
 "metadata": {
  "interpreter": {
   "hash": "8d9587739e3a3c4d02c325bf089bc25dffaed5def0ee654ef51796d1adc9076c"
  },
  "kernelspec": {
   "display_name": "Python 3.10.1 64-bit",
   "language": "python",
   "name": "python3"
  },
  "language_info": {
   "codemirror_mode": {
    "name": "ipython",
    "version": 3
   },
   "file_extension": ".py",
   "mimetype": "text/x-python",
   "name": "python",
   "nbconvert_exporter": "python",
   "pygments_lexer": "ipython3",
   "version": "3.10.1"
  },
  "orig_nbformat": 4
 },
 "nbformat": 4,
 "nbformat_minor": 2
}
