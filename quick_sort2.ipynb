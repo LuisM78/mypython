{
 "cells": [
  {
   "cell_type": "code",
   "execution_count": 1,
   "metadata": {},
   "outputs": [],
   "source": [
    "#User function Template for python3\n",
    "class Solution:\n",
    "    #Function to sort a list using quick sort algorithm.\n",
    "    def quickSort(self,arr,low,high):\n",
    "        # code here\n",
    "        if low < high:\n",
    "            split_value = self.partition(arr,low,high)\n",
    "            self.quickSort(arr,low,split_value-1)\n",
    "            self.quickSort(arr,split_value+1,high)\n",
    "        \n",
    "    def partition(self,arr,low,high):\n",
    "        pivot = arr[low]\n",
    "        left_marker = low+1\n",
    "        right_marker = high\n",
    "        done = False\n",
    "        while not done:\n",
    "            while left_marker <= right_marker and arr[left_marker] <= pivot:\n",
    "                left_marker  += 1\n",
    "            while right_marker >= left_marker and arr[right_marker] >= pivot:\n",
    "                right_marker -= 1\n",
    "            if right_marker < left_marker:\n",
    "                done = True\n",
    "            else:\n",
    "                temp = arr[left_marker]\n",
    "                arr[left_marker] = arr[right_marker]\n",
    "                arr[right_marker] = temp\n",
    "        temp = arr[low]\n",
    "        arr[low] = arr[right_marker]\n",
    "        arr[right_marker] = temp\n",
    "        return right_marker\n",
    "                    \n",
    "        \n",
    "            "
   ]
  },
  {
   "cell_type": "code",
   "execution_count": 2,
   "metadata": {},
   "outputs": [],
   "source": [
    "a = Solution()"
   ]
  },
  {
   "cell_type": "markdown",
   "metadata": {},
   "source": [
    "N = 5 \n",
    "\n",
    "arr[] = { 4, 1, 3, 9, 7}\n",
    "\n",
    "Output:\n",
    "\n",
    "1 3 4 7 9"
   ]
  },
  {
   "cell_type": "code",
   "execution_count": 4,
   "metadata": {},
   "outputs": [
    {
     "data": {
      "text/plain": [
       "[1, 3, 4, 7, 9]"
      ]
     },
     "execution_count": 4,
     "metadata": {},
     "output_type": "execute_result"
    }
   ],
   "source": [
    "arr = [4,1,3,9,7]\n",
    "a.quickSort(arr,0,len(arr)-1)\n",
    "arr"
   ]
  },
  {
   "cell_type": "code",
   "execution_count": 5,
   "metadata": {},
   "outputs": [
    {
     "data": {
      "text/plain": [
       "2"
      ]
     },
     "execution_count": 5,
     "metadata": {},
     "output_type": "execute_result"
    }
   ],
   "source": [
    "1+1"
   ]
  },
  {
   "cell_type": "code",
   "execution_count": null,
   "metadata": {},
   "outputs": [],
   "source": []
  }
 ],
 "metadata": {
  "interpreter": {
   "hash": "ad2bdc8ecc057115af97d19610ffacc2b4e99fae6737bb82f5d7fb13d2f2c186"
  },
  "kernelspec": {
   "display_name": "Python 3.9.7 ('base')",
   "language": "python",
   "name": "python3"
  },
  "language_info": {
   "codemirror_mode": {
    "name": "ipython",
    "version": 3
   },
   "file_extension": ".py",
   "mimetype": "text/x-python",
   "name": "python",
   "nbconvert_exporter": "python",
   "pygments_lexer": "ipython3",
   "version": "3.9.7"
  },
  "orig_nbformat": 4
 },
 "nbformat": 4,
 "nbformat_minor": 2
}
