{
 "cells": [
  {
   "cell_type": "code",
   "execution_count": 29,
   "metadata": {},
   "outputs": [],
   "source": [
    "class Node(object):\n",
    "    def __init__(self,name):\n",
    "        self.name = name\n",
    "        self.input_dependencies = []\n",
    "        self.next_dependencies = []\n",
    "\n",
    "    def add_input_dependency(self,Node):\n",
    "        self.input_dependencies.append(Node)\n",
    "\n",
    "    def add_output_dependency(self,Node):\n",
    "        self.next_dependencies.append(Node)\n",
    "\n",
    "    def get_path(self):\n",
    "        path = []\n",
    "        if self.next_dependencies:\n",
    "            for j in self.next_dependencies:\n",
    "                path += j.get_path()\n",
    "        if self.input_dependencies:\n",
    "            for i in self.input_dependencies:\n",
    "                path += i.get_path()\n",
    "\n",
    "        return [self.name] + list(set(path))\n",
    "\n"
   ]
  },
  {
   "cell_type": "code",
   "execution_count": 30,
   "metadata": {},
   "outputs": [],
   "source": [
    "hello = Node('hello')\n",
    "foo = Node(\"foo\")\n",
    "bar = Node(\"bar\")\n",
    "hello.add_output_dependency(foo)\n",
    "hello.add_output_dependency(bar)\n",
    "baz = Node('baz')\n",
    "foo.add_output_dependency(baz)\n",
    "foo.add_output_dependency(bar)\n",
    "bar.add_output_dependency(baz)\n",
    "biz = Node('biz')\n",
    "bar.add_output_dependency(biz)\n",
    "qux = Node('qux')\n",
    "bar.add_output_dependency(qux)\n",
    "chat_app = Node('chat')\n",
    "\n",
    "chat_app.add_output_dependency(bar)\n",
    "chat_app.add_output_dependency(qux)\n"
   ]
  },
  {
   "cell_type": "code",
   "execution_count": 31,
   "metadata": {},
   "outputs": [
    {
     "name": "stdout",
     "output_type": "stream",
     "text": [
      "{'baz', 'bar', 'biz', 'hello', 'qux', 'foo'}\n"
     ]
    }
   ],
   "source": [
    "print(set(hello.get_path()))"
   ]
  },
  {
   "cell_type": "code",
   "execution_count": 32,
   "metadata": {},
   "outputs": [
    {
     "name": "stdout",
     "output_type": "stream",
     "text": [
      "['hello', 'baz', 'bar', 'biz', 'qux', 'foo']\n"
     ]
    }
   ],
   "source": [
    "print(hello.get_path())"
   ]
  },
  {
   "cell_type": "code",
   "execution_count": 33,
   "metadata": {},
   "outputs": [
    {
     "name": "stdout",
     "output_type": "stream",
     "text": [
      "['chat', 'baz', 'bar', 'biz', 'qux']\n"
     ]
    }
   ],
   "source": [
    "print(chat_app.get_path())"
   ]
  },
  {
   "cell_type": "code",
   "execution_count": null,
   "metadata": {},
   "outputs": [],
   "source": []
  }
 ],
 "metadata": {
  "interpreter": {
   "hash": "b3ba2566441a7c06988d0923437866b63cedc61552a5af99d1f4fb67d367b25f"
  },
  "kernelspec": {
   "display_name": "Python 3.9.7 ('base')",
   "language": "python",
   "name": "python3"
  },
  "language_info": {
   "codemirror_mode": {
    "name": "ipython",
    "version": 3
   },
   "file_extension": ".py",
   "mimetype": "text/x-python",
   "name": "python",
   "nbconvert_exporter": "python",
   "pygments_lexer": "ipython3",
   "version": "3.9.7"
  },
  "orig_nbformat": 4
 },
 "nbformat": 4,
 "nbformat_minor": 2
}
