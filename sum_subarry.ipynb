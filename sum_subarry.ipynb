{
 "cells": [
  {
   "cell_type": "code",
   "execution_count": 2,
   "metadata": {},
   "outputs": [],
   "source": [
    "def sum_sub_array(nums,val):\n",
    "    i = 0\n",
    "    j = 0\n",
    "    total = 0\n",
    "    while j < len(nums):\n",
    "        total += nums[j]\n",
    "        while total>val:\n",
    "            total-= nums[i]\n",
    "            i+=1\n",
    "        if total == val:\n",
    "            return [i+1,j+1]\n",
    "        j += 1\n",
    "    \n",
    "    return [-1]"
   ]
  },
  {
   "cell_type": "code",
   "execution_count": 3,
   "metadata": {},
   "outputs": [
    {
     "data": {
      "text/plain": [
       "[2, 4]"
      ]
     },
     "execution_count": 3,
     "metadata": {},
     "output_type": "execute_result"
    }
   ],
   "source": [
    "nums = [1,2,3,7,5]\n",
    "S = 12\n",
    "sum_sub_array(nums,S)\n"
   ]
  },
  {
   "cell_type": "markdown",
   "metadata": {},
   "source": [
    "Input:\n",
    "\n",
    "N = 5, S = 12\n",
    "A[] = {1,2,3,7,5}\n",
    "Output: 2 4\n",
    "\n",
    "\n",
    "Explanation: The sum of elements \n",
    "from 2nd position to 4th position \n",
    "is 12.\n",
    "\n",
    "N = 10, S = 15\n",
    "A[] = {1,2,3,4,5,6,7,8,9,10}\n",
    "Output: 1 5\n",
    "Explanation: The sum of elements \n",
    "from 1st position to 5th position\n",
    "is 15."
   ]
  },
  {
   "cell_type": "code",
   "execution_count": 5,
   "metadata": {},
   "outputs": [
    {
     "data": {
      "text/plain": [
       "[1, 5]"
      ]
     },
     "execution_count": 5,
     "metadata": {},
     "output_type": "execute_result"
    }
   ],
   "source": [
    "nums= [1,2,3,4,5,6,7,8,9,10]\n",
    "S = 15\n",
    "sum_sub_array(nums,S)\n"
   ]
  },
  {
   "cell_type": "code",
   "execution_count": null,
   "metadata": {},
   "outputs": [],
   "source": []
  },
  {
   "cell_type": "markdown",
   "metadata": {},
   "source": []
  }
 ],
 "metadata": {
  "interpreter": {
   "hash": "8d9587739e3a3c4d02c325bf089bc25dffaed5def0ee654ef51796d1adc9076c"
  },
  "kernelspec": {
   "display_name": "Python 3.10.1 64-bit",
   "language": "python",
   "name": "python3"
  },
  "language_info": {
   "codemirror_mode": {
    "name": "ipython",
    "version": 3
   },
   "file_extension": ".py",
   "mimetype": "text/x-python",
   "name": "python",
   "nbconvert_exporter": "python",
   "pygments_lexer": "ipython3",
   "version": "3.10.1"
  },
  "orig_nbformat": 4
 },
 "nbformat": 4,
 "nbformat_minor": 2
}
