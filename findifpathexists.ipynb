{
 "cells": [
  {
   "cell_type": "code",
   "execution_count": 10,
   "metadata": {},
   "outputs": [],
   "source": [
    "from typing import List\n",
    "from collections import defaultdict\n",
    "from collections import deque\n"
   ]
  },
  {
   "cell_type": "code",
   "execution_count": 14,
   "metadata": {},
   "outputs": [],
   "source": [
    "\n",
    "\n",
    "class Solution:\n",
    "    def validPath(self, n: int, edges: List[List[int]], source: int, destination: int) -> bool:\n",
    "        if source==destination:\n",
    "            return True\n",
    "        if len(edges)==0:\n",
    "            return False\n",
    "        graph = defaultdict(list)\n",
    "        for n in range(len(edges)):\n",
    "            graph[edges[n][0]].append(edges[n][1])\n",
    "            graph[edges[n][1]].append(edges[n][0])\n",
    "        #print(graph)\n",
    "        ans =[]\n",
    "        source = source\n",
    "        target = destination\n",
    "        q = deque([0])\n",
    "        def dfs(source):\n",
    "            #print('inside dfs')\n",
    "            path = []\n",
    "            q = deque([source[0]])\n",
    "            visited=set()\n",
    "            print('q',q)\n",
    "            while q:\n",
    "                pair = q.popleft()\n",
    "                #print('pair is ', pair)\n",
    "                node = pair\n",
    "                \n",
    "                #print('node is',node)\n",
    "                if node not in visited:\n",
    "                    visited.add(node)\n",
    "                    path.append(node)\n",
    "                    for nei in graph[node]:\n",
    "                        q.append(nei)\n",
    "                #print('path is',path)\n",
    "                        \n",
    "            return path\n",
    "        path = dfs(edges[0])\n",
    "        print('path is', path)\n",
    "        if source in path and target in path:\n",
    "            return True\n",
    "        return False\n",
    "        \n",
    "        \n",
    "                    \n",
    "            "
   ]
  },
  {
   "cell_type": "code",
   "execution_count": 15,
   "metadata": {},
   "outputs": [],
   "source": [
    "A = Solution()"
   ]
  },
  {
   "cell_type": "code",
   "execution_count": 16,
   "metadata": {},
   "outputs": [
    {
     "name": "stdout",
     "output_type": "stream",
     "text": [
      "q deque([0])\n",
      "path is [0, 1, 2]\n"
     ]
    },
    {
     "data": {
      "text/plain": [
       "True"
      ]
     },
     "execution_count": 16,
     "metadata": {},
     "output_type": "execute_result"
    }
   ],
   "source": [
    "A.validPath(3,[[0,1],[1,2],[2,0]],0,2)"
   ]
  },
  {
   "cell_type": "code",
   "execution_count": 17,
   "metadata": {},
   "outputs": [
    {
     "name": "stdout",
     "output_type": "stream",
     "text": [
      "q deque([0])\n",
      "path is [0, 1, 2]\n"
     ]
    },
    {
     "data": {
      "text/plain": [
       "False"
      ]
     },
     "execution_count": 17,
     "metadata": {},
     "output_type": "execute_result"
    }
   ],
   "source": [
    "A.validPath(6,[[0,1],[0,2],[3,5],[5,4],[4,3]],0,5)"
   ]
  },
  {
   "cell_type": "code",
   "execution_count": 18,
   "metadata": {},
   "outputs": [
    {
     "name": "stdout",
     "output_type": "stream",
     "text": [
      "q deque([0])\n",
      "path is [0, 1, 2]\n"
     ]
    },
    {
     "data": {
      "text/plain": [
       "True"
      ]
     },
     "execution_count": 18,
     "metadata": {},
     "output_type": "execute_result"
    }
   ],
   "source": [
    "A.validPath( 3, [[0,1],[1,2],[2,0]],  0,  2)"
   ]
  },
  {
   "cell_type": "code",
   "execution_count": null,
   "metadata": {},
   "outputs": [],
   "source": []
  }
 ],
 "metadata": {
  "kernelspec": {
   "display_name": "base",
   "language": "python",
   "name": "python3"
  },
  "language_info": {
   "codemirror_mode": {
    "name": "ipython",
    "version": 3
   },
   "file_extension": ".py",
   "mimetype": "text/x-python",
   "name": "python",
   "nbconvert_exporter": "python",
   "pygments_lexer": "ipython3",
   "version": "3.9.7"
  },
  "orig_nbformat": 4
 },
 "nbformat": 4,
 "nbformat_minor": 2
}
