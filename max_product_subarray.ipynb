{
 "cells": [
  {
   "cell_type": "code",
   "execution_count": 1,
   "metadata": {},
   "outputs": [
    {
     "data": {
      "text/plain": [
       "180"
      ]
     },
     "execution_count": 1,
     "metadata": {},
     "output_type": "execute_result"
    }
   ],
   "source": [
    "6*3*10"
   ]
  },
  {
   "cell_type": "code",
   "execution_count": 3,
   "metadata": {},
   "outputs": [
    {
     "data": {
      "text/plain": [
       "90"
      ]
     },
     "execution_count": 3,
     "metadata": {},
     "output_type": "execute_result"
    }
   ],
   "source": [
    "5*3*1*6"
   ]
  },
  {
   "cell_type": "code",
   "execution_count": 4,
   "metadata": {},
   "outputs": [
    {
     "data": {
      "text/plain": [
       "-40"
      ]
     },
     "execution_count": 4,
     "metadata": {},
     "output_type": "execute_result"
    }
   ],
   "source": [
    "-8*5"
   ]
  },
  {
   "cell_type": "code",
   "execution_count": null,
   "metadata": {},
   "outputs": [],
   "source": [
    "def maxProduct(self,arr, n):\n",
    "    # code here\n",
    "\n",
    "    # min_var = max_var = max_prod = arr[0]\n",
    "    \n",
    "    # for i in range(1, n):\n",
    "        \n",
    "    #     if arr[i] < 0:\n",
    "            \n",
    "    #         min_var, max_var = max_var, min_var\n",
    "            \n",
    "    #     min_var = min(arr[i] * min_var, arr[i])\n",
    "    #     max_var = max(arr[i] * max_var, arr[i])\n",
    "        \n",
    "    #     max_prod = max(max_prod, max_var)\n",
    "        \n",
    "    # return max_prod\n",
    "            # code here\n",
    "# \t\tcurrent_max=arr[0]\n",
    "# \t\tcurrent_min=arr[0]\n",
    "# \t\tmaxi=arr[0]\n",
    "    \n",
    "# \t\tfor i in range(1,n):\n",
    "# \t\t    if arr[i]>0:\n",
    "# \t\t        current_max=max(arr[i],current_max*arr[i])\n",
    "# \t\t        current_min=min(arr[i],current_min*arr[i])\n",
    "            \n",
    "# \t\t    else:\n",
    "# \t\t        temp=current_max\n",
    "# \t\t        current_max=max(arr[i],current_min*arr[i])\n",
    "# \t\t        current_min=min(arr[i],temp*arr[i])\n",
    "# \t        maxi=max(maxi,current_max)\n",
    "# \t    return maxi\n",
    "    product = 1\n",
    "    maxproduct = arr[0]\n",
    "    for i in range(len(arr)):\n",
    "        product *= arr[i]\n",
    "        maxproduct = max(maxproduct,product)\n",
    "        if product ==0:\n",
    "            product = 1\n",
    "    \n",
    "    product = 1\n",
    "    for i in range(len(arr)-1,-1,-1):\n",
    "        product *= arr[i]\n",
    "        maxproduct = max(maxproduct,product)\n",
    "        if product ==0:\n",
    "            product = 1\n",
    "    return maxproduct"
   ]
  }
 ],
 "metadata": {
  "interpreter": {
   "hash": "8f2da782a53ffb8d5a9c0ba3b43a502e539ac29bc11dcc391bea25e978b4bb7a"
  },
  "kernelspec": {
   "display_name": "Python 3.10.5 64-bit (windows store)",
   "language": "python",
   "name": "python3"
  },
  "language_info": {
   "codemirror_mode": {
    "name": "ipython",
    "version": 3
   },
   "file_extension": ".py",
   "mimetype": "text/x-python",
   "name": "python",
   "nbconvert_exporter": "python",
   "pygments_lexer": "ipython3",
   "version": "3.10.5"
  },
  "orig_nbformat": 4
 },
 "nbformat": 4,
 "nbformat_minor": 2
}
