{
 "cells": [
  {
   "cell_type": "code",
   "execution_count": 105,
   "metadata": {},
   "outputs": [],
   "source": [
    "def segregateElements( arr, n):\n",
    "    neg = []\n",
    "    pos =[]\n",
    "    for i in arr:\n",
    "        if i <0:\n",
    "            neg.append(i)\n",
    "        else:\n",
    "            pos.append(i)\n",
    "    \n",
    "    arr[:] = pos+neg"
   ]
  },
  {
   "cell_type": "markdown",
   "metadata": {},
   "source": [
    "Input : \n",
    "N = 8\n",
    "\n",
    "arr[] = {1, -1, 3, 2, -7, -5, 11, 6 }\n",
    "\n",
    "Output : \n",
    "\n",
    "1  3  2  11  6  -1  -7  -5"
   ]
  },
  {
   "cell_type": "code",
   "execution_count": 106,
   "metadata": {},
   "outputs": [
    {
     "data": {
      "text/plain": [
       "[1, 3, 2, 11, 6, -1, -7, -5]"
      ]
     },
     "execution_count": 106,
     "metadata": {},
     "output_type": "execute_result"
    }
   ],
   "source": [
    "segregateElements( arr, len(arr))\n",
    "arr"
   ]
  },
  {
   "cell_type": "code",
   "execution_count": null,
   "metadata": {},
   "outputs": [],
   "source": []
  }
 ],
 "metadata": {
  "interpreter": {
   "hash": "8d9587739e3a3c4d02c325bf089bc25dffaed5def0ee654ef51796d1adc9076c"
  },
  "kernelspec": {
   "display_name": "Python 3.10.1 64-bit",
   "language": "python",
   "name": "python3"
  },
  "language_info": {
   "codemirror_mode": {
    "name": "ipython",
    "version": 3
   },
   "file_extension": ".py",
   "mimetype": "text/x-python",
   "name": "python",
   "nbconvert_exporter": "python",
   "pygments_lexer": "ipython3",
   "version": "3.10.1"
  },
  "orig_nbformat": 4
 },
 "nbformat": 4,
 "nbformat_minor": 2
}
