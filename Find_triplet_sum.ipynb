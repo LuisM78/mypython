{
 "cells": [
  {
   "cell_type": "markdown",
   "metadata": {},
   "source": [
    "Triplet Sum in Array \n",
    "Medium Accuracy: 49.0% Submissions: 100k+ Points: 4\n",
    "Given an array arr of size n and an integer X. Find if there's a triplet in the array which sums up to the given integer X.\n",
    "\n",
    "\n",
    "\n",
    "Example 1:\n",
    "\n",
    "\n",
    "Input:\n",
    "\n",
    "n = 6, X = 13\n",
    "arr[] = [1 4 45 6 10 8]\n",
    "Output:\n",
    "1\n",
    "\n",
    "Explanation:\n",
    "\n",
    "The triplet {1, 4, 8} in \n",
    "the array sums up to 13.\n",
    "Example 2:\n",
    "\n",
    "Input:\n",
    "\n",
    "n = 5, X = 10\n",
    "arr[] = [1 2 4 3 6]\n",
    "Output:\n",
    "1\n",
    "Explanation:\n",
    "\n",
    "The triplet {1, 3, 6} in \n",
    "the array sums up to 10."
   ]
  },
  {
   "cell_type": "markdown",
   "metadata": {},
   "source": []
  },
  {
   "cell_type": "code",
   "execution_count": 2,
   "metadata": {},
   "outputs": [],
   "source": [
    "def find3Numbers(A, n, X):\n",
    "    # Your Code Here\n",
    "    #d = {}\n",
    "    A.sort()\n",
    "    for i in range(len(A)): \n",
    "        target = X-A[i]\n",
    "        s =i+1\n",
    "        e = n-1\n",
    "        while s <e:\n",
    "            if target == A[s] + A[e]:\n",
    "                return True\n",
    "            else:\n",
    "                if A[s] + A[e] < target:\n",
    "                    s = s + 1\n",
    "                else:\n",
    "                    e = e - 1\n",
    "    return False               "
   ]
  },
  {
   "cell_type": "code",
   "execution_count": 3,
   "metadata": {},
   "outputs": [],
   "source": [
    "X = 13\n",
    "a = [1, 4, 45, 6, 10, 8]"
   ]
  },
  {
   "cell_type": "code",
   "execution_count": 5,
   "metadata": {},
   "outputs": [
    {
     "data": {
      "text/plain": [
       "True"
      ]
     },
     "execution_count": 5,
     "metadata": {},
     "output_type": "execute_result"
    }
   ],
   "source": [
    "find3Numbers(a,len(a),X)"
   ]
  },
  {
   "cell_type": "code",
   "execution_count": 6,
   "metadata": {},
   "outputs": [
    {
     "data": {
      "text/plain": [
       "True"
      ]
     },
     "execution_count": 6,
     "metadata": {},
     "output_type": "execute_result"
    }
   ],
   "source": [
    "X = 10\n",
    "arr = [1, 2, 4, 3 ,6]\n",
    "#Output:\n",
    "#1\n",
    "find3Numbers(arr,len(arr),X)"
   ]
  },
  {
   "cell_type": "code",
   "execution_count": null,
   "metadata": {},
   "outputs": [],
   "source": []
  }
 ],
 "metadata": {
  "kernelspec": {
   "display_name": "Python 3.10.5 64-bit (windows store)",
   "language": "python",
   "name": "python3"
  },
  "language_info": {
   "codemirror_mode": {
    "name": "ipython",
    "version": 3
   },
   "file_extension": ".py",
   "mimetype": "text/x-python",
   "name": "python",
   "nbconvert_exporter": "python",
   "pygments_lexer": "ipython3",
   "version": "3.10.5"
  },
  "orig_nbformat": 4,
  "vscode": {
   "interpreter": {
    "hash": "8f2da782a53ffb8d5a9c0ba3b43a502e539ac29bc11dcc391bea25e978b4bb7a"
   }
  }
 },
 "nbformat": 4,
 "nbformat_minor": 2
}
