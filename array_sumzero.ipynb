{
 "cells": [
  {
   "cell_type": "code",
   "execution_count": 6,
   "metadata": {},
   "outputs": [],
   "source": [
    "def subArrayExists(arr,n):\n",
    "    ##Your code here\n",
    "    #Return true or false\n",
    "    # d={}\n",
    "    # sum=0\n",
    "    # for i in range(n):\n",
    "    #     sum+=arr[i]\n",
    "    #     d[sum]=d.get(sum,0)+1\n",
    "    #     if sum==0:\n",
    "    #         return True\n",
    "    # print(d)\n",
    "    # for i in d.values():\n",
    "    #     if i>1:\n",
    "    #         return True\n",
    "    # return False\n",
    "    ##Your code here\n",
    "    #Return true or false\n",
    "    lst=set()\n",
    "    \n",
    "    currentsum=0\n",
    "    for i in arr:\n",
    "        currentsum+=i\n",
    "        if currentsum==0:\n",
    "            return True\n",
    "        if currentsum in lst:\n",
    "            print(currentsum)\n",
    "            return True\n",
    "        else:\n",
    "            lst.add(currentsum)\n",
    "            print(lst)\n",
    "\n",
    "    return False"
   ]
  },
  {
   "cell_type": "code",
   "execution_count": 7,
   "metadata": {},
   "outputs": [
    {
     "name": "stdout",
     "output_type": "stream",
     "text": [
      "{4}\n",
      "{4, 6}\n",
      "{3, 4, 6}\n",
      "4\n"
     ]
    },
    {
     "data": {
      "text/plain": [
       "True"
      ]
     },
     "execution_count": 7,
     "metadata": {},
     "output_type": "execute_result"
    }
   ],
   "source": [
    "arr =[4 ,2 ,-3, 1, 6]\n",
    "subArrayExists(arr,len(arr))"
   ]
  },
  {
   "cell_type": "code",
   "execution_count": 27,
   "metadata": {},
   "outputs": [],
   "source": [
    "def subArrayExists2(arr,n):\n",
    "    #Your code here\n",
    "    #Return true or false\n",
    "    d={}\n",
    "    sum=0\n",
    "    for i in range(n):\n",
    "        sum+=arr[i]\n",
    "        d[sum]=d.get(sum,0)+1\n",
    "        print('d',d)\n",
    "        if sum==0:\n",
    "            return True\n",
    "    print(d)\n",
    "    for i,j in d.items():\n",
    "        print('i ',i)\n",
    "        if j>1:\n",
    "            \n",
    "            print('      key= ',i,\"value=\",j)\n",
    "            return True\n",
    "    return False\n"
   ]
  },
  {
   "cell_type": "code",
   "execution_count": 28,
   "metadata": {},
   "outputs": [
    {
     "name": "stdout",
     "output_type": "stream",
     "text": [
      "d {4: 1}\n",
      "d {4: 1, 6: 1}\n",
      "d {4: 1, 6: 1, 3: 1}\n",
      "d {4: 2, 6: 1, 3: 1}\n",
      "d {4: 2, 6: 1, 3: 1, 10: 1}\n",
      "{4: 2, 6: 1, 3: 1, 10: 1}\n",
      "i  4\n",
      "      key=  4 value= 2\n",
      "True\n"
     ]
    },
    {
     "data": {
      "text/plain": [
       "[4, 2, -3, 1, 6]"
      ]
     },
     "execution_count": 28,
     "metadata": {},
     "output_type": "execute_result"
    }
   ],
   "source": [
    "arr =[4 ,2 ,-3, 1, 6]\n",
    "print(subArrayExists2(arr,len(arr)))\n",
    "arr"
   ]
  },
  {
   "cell_type": "code",
   "execution_count": 29,
   "metadata": {},
   "outputs": [
    {
     "name": "stdout",
     "output_type": "stream",
     "text": [
      "d {7: 1}\n",
      "d {7: 1, 9: 1}\n",
      "d {7: 1, 9: 1, 11: 1}\n",
      "d {7: 1, 9: 1, 11: 1, 8: 1}\n",
      "d {7: 1, 9: 1, 11: 1, 8: 1, 13: 1}\n",
      "d {7: 1, 9: 1, 11: 2, 8: 1, 13: 1}\n",
      "{7: 1, 9: 1, 11: 2, 8: 1, 13: 1}\n",
      "i  7\n",
      "i  9\n",
      "i  11\n",
      "      key=  11 value= 2\n",
      "True\n"
     ]
    },
    {
     "data": {
      "text/plain": [
       "[7, 2, 2, -3, 5, -2]"
      ]
     },
     "execution_count": 29,
     "metadata": {},
     "output_type": "execute_result"
    }
   ],
   "source": [
    "arr=[7,2,2,-3,5,-2]\n",
    "print(subArrayExists2(arr,len(arr)))\n",
    "arr"
   ]
  },
  {
   "cell_type": "code",
   "execution_count": null,
   "metadata": {},
   "outputs": [],
   "source": []
  }
 ],
 "metadata": {
  "interpreter": {
   "hash": "8f2da782a53ffb8d5a9c0ba3b43a502e539ac29bc11dcc391bea25e978b4bb7a"
  },
  "kernelspec": {
   "display_name": "Python 3.10.5 64-bit (windows store)",
   "language": "python",
   "name": "python3"
  },
  "language_info": {
   "codemirror_mode": {
    "name": "ipython",
    "version": 3
   },
   "file_extension": ".py",
   "mimetype": "text/x-python",
   "name": "python",
   "nbconvert_exporter": "python",
   "pygments_lexer": "ipython3",
   "version": "3.10.5"
  },
  "orig_nbformat": 4
 },
 "nbformat": 4,
 "nbformat_minor": 2
}
