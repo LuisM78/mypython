{
 "cells": [
  {
   "cell_type": "code",
   "execution_count": 3,
   "metadata": {},
   "outputs": [],
   "source": [
    "def trappingWater( arr,n):\n",
    "    #Code here\n",
    "    lmax,rmax=arr[0],arr[n-1]\n",
    "    i,j=0,n-1\n",
    "    s = 0\n",
    "    while i<j:\n",
    "        if lmax<rmax:\n",
    "            i+=1\n",
    "            lmax = max(lmax,arr[i])\n",
    "            mx = lmax-arr[i]\n",
    "            s+=mx\n",
    "        else:\n",
    "            j-=1\n",
    "            rmax = max(rmax,arr[j])\n",
    "            mx = rmax-arr[j]\n",
    "            s+=mx\n",
    "    return s\n"
   ]
  },
  {
   "cell_type": "code",
   "execution_count": 2,
   "metadata": {},
   "outputs": [],
   "source": [
    "height = [0,1,0,2,1,0,1,3,2,1,2,1]"
   ]
  },
  {
   "cell_type": "code",
   "execution_count": 6,
   "metadata": {},
   "outputs": [
    {
     "data": {
      "text/plain": [
       "6"
      ]
     },
     "execution_count": 6,
     "metadata": {},
     "output_type": "execute_result"
    }
   ],
   "source": [
    "trappingWater(height,len(height))"
   ]
  },
  {
   "cell_type": "code",
   "execution_count": 5,
   "metadata": {},
   "outputs": [],
   "source": [
    "def trappingWater( arr,n):      \n",
    "    if not arr:\n",
    "        return 0\n",
    "    l, r = 0, len(arr) - 1\n",
    "    leftmax, rightmax = arr[l], arr[r]\n",
    "    res = 0\n",
    "    while l < r:\n",
    "        if leftmax < rightmax:\n",
    "            l += 1\n",
    "            leftmax = max(leftmax,arr[l])\n",
    "            res += leftmax - arr[l]\n",
    "        else:\n",
    "            r -= 1\n",
    "            rightmax = max(rightmax,arr[r])\n",
    "            res += rightmax-arr[r]\n",
    "    return res"
   ]
  },
  {
   "cell_type": "code",
   "execution_count": null,
   "metadata": {},
   "outputs": [],
   "source": []
  }
 ],
 "metadata": {
  "kernelspec": {
   "display_name": "Python 3.10.5 64-bit (windows store)",
   "language": "python",
   "name": "python3"
  },
  "language_info": {
   "codemirror_mode": {
    "name": "ipython",
    "version": 3
   },
   "file_extension": ".py",
   "mimetype": "text/x-python",
   "name": "python",
   "nbconvert_exporter": "python",
   "pygments_lexer": "ipython3",
   "version": "3.10.8"
  },
  "orig_nbformat": 4,
  "vscode": {
   "interpreter": {
    "hash": "8f2da782a53ffb8d5a9c0ba3b43a502e539ac29bc11dcc391bea25e978b4bb7a"
   }
  }
 },
 "nbformat": 4,
 "nbformat_minor": 2
}
