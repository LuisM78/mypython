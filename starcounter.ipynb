{
 "cells": [
  {
   "cell_type": "code",
   "execution_count": 137,
   "metadata": {},
   "outputs": [],
   "source": [
    "s = \"**|**|**\"\n"
   ]
  },
  {
   "cell_type": "code",
   "execution_count": 162,
   "metadata": {},
   "outputs": [],
   "source": [
    "def count_stars(s,start,end):\n",
    "    s1 = s[start:end+1]\n",
    "    print(s)\n",
    "    print(s1)\n",
    "    i = 0\n",
    "    starct = 0\n",
    "    result = []\n",
    "    while i < len(s1):\n",
    "        while i < len(s1) and s1[i] == \"|\": #and s1[i+1]==\"*\":\n",
    "            i += 1\n",
    "            firstpipe = 1\n",
    "            print('firstpipe',firstpipe)\n",
    "            while i< len(s1)-1 and s1[i] == \"*\" and firstpipe == 1:\n",
    "                starct += 1\n",
    "                i += 1\n",
    "                print(\"starct \",starct)\n",
    "                print(s1[i],i)\n",
    "                if s1[i] == \"|\":\n",
    "                    print('appending', starct)\n",
    "                    result.append(starct)\n",
    "                    #i +=1\n",
    "                    starct= 0\n",
    "                    firstpipe = 0\n",
    "        i += 1\n",
    "    print(result)\n",
    "    print('sum(result)',sum(result))\n"
   ]
  },
  {
   "cell_type": "code",
   "execution_count": 166,
   "metadata": {},
   "outputs": [
    {
     "name": "stdout",
     "output_type": "stream",
     "text": [
      "**|***||**|\n",
      "|***||**|\n",
      "firstpipe 1\n",
      "starct  1\n",
      "* 2\n",
      "starct  2\n",
      "* 3\n",
      "starct  3\n",
      "| 4\n",
      "appending 3\n",
      "firstpipe 1\n",
      "firstpipe 1\n",
      "starct  1\n",
      "* 7\n",
      "starct  2\n",
      "| 8\n",
      "appending 2\n",
      "firstpipe 1\n",
      "[3, 2]\n",
      "sum(result) 5\n"
     ]
    }
   ],
   "source": [
    "#s = \"**|**|**|**\"\n",
    "s = \"**|***||**|\"\n",
    "count_stars(s,2,len(s)-1)"
   ]
  },
  {
   "cell_type": "code",
   "execution_count": 153,
   "metadata": {},
   "outputs": [],
   "source": [
    "s = \"**|**|**\""
   ]
  },
  {
   "cell_type": "code",
   "execution_count": 136,
   "metadata": {},
   "outputs": [
    {
     "name": "stdout",
     "output_type": "stream",
     "text": [
      "**|**|**\n",
      "|**|\n",
      "firstpipe 1\n",
      "starct  1\n",
      "* 2\n",
      "starct  2\n",
      "| 3\n",
      "[]\n",
      "sum(result) 0\n"
     ]
    }
   ],
   "source": [
    "count_stars(s,2,5)"
   ]
  },
  {
   "cell_type": "code",
   "execution_count": null,
   "metadata": {},
   "outputs": [],
   "source": []
  },
  {
   "cell_type": "code",
   "execution_count": null,
   "metadata": {},
   "outputs": [],
   "source": []
  }
 ],
 "metadata": {
  "interpreter": {
   "hash": "8f2da782a53ffb8d5a9c0ba3b43a502e539ac29bc11dcc391bea25e978b4bb7a"
  },
  "kernelspec": {
   "display_name": "Python 3.10.5 64-bit (windows store)",
   "language": "python",
   "name": "python3"
  },
  "language_info": {
   "codemirror_mode": {
    "name": "ipython",
    "version": 3
   },
   "file_extension": ".py",
   "mimetype": "text/x-python",
   "name": "python",
   "nbconvert_exporter": "python",
   "pygments_lexer": "ipython3",
   "version": "3.10.5"
  },
  "orig_nbformat": 4
 },
 "nbformat": 4,
 "nbformat_minor": 2
}
